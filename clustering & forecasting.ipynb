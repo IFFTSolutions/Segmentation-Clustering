{
 "cells": [
  {
   "cell_type": "markdown",
   "metadata": {},
   "source": [
    "## 1. Project Overview\n",
    "Identifying and understanding past trends in sales transactions can be used for defining a better marketing strategy. Forecasting retail sales are essential for managing retail stores from supplying goods and resources to business development prospects. "
   ]
  },
  {
   "cell_type": "code",
   "execution_count": 1,
   "metadata": {},
   "outputs": [
    {
     "name": "stdout",
     "output_type": "stream",
     "text": [
      "[1] TRUE\n",
      "[1] 107\n",
      "[1] 811\n"
     ]
    }
   ],
   "source": [
    "df <- read.csv(\"Sales_Transactions_Dataset_Weekly.csv\", header = TRUE)\n",
    "print(is.data.frame(df))\n",
    "print(ncol(df))\n",
    "print(nrow(df))"
   ]
  },
  {
   "cell_type": "code",
   "execution_count": 14,
   "metadata": {},
   "outputs": [
    {
     "data": {
      "text/html": [
       "<table>\n",
       "<thead><tr><th scope=col>Product_Code</th><th scope=col>W0</th><th scope=col>W1</th><th scope=col>W2</th><th scope=col>W3</th><th scope=col>W4</th><th scope=col>W5</th><th scope=col>W6</th><th scope=col>W7</th><th scope=col>W8</th><th scope=col>...</th><th scope=col>Normalized.42</th><th scope=col>Normalized.43</th><th scope=col>Normalized.44</th><th scope=col>Normalized.45</th><th scope=col>Normalized.46</th><th scope=col>Normalized.47</th><th scope=col>Normalized.48</th><th scope=col>Normalized.49</th><th scope=col>Normalized.50</th><th scope=col>Normalized.51</th></tr></thead>\n",
       "<tbody>\n",
       "\t<tr><td>P1  </td><td>11  </td><td>12  </td><td>10  </td><td> 8  </td><td>13  </td><td>12  </td><td>14  </td><td>21  </td><td> 6  </td><td>... </td><td>0.06</td><td>0.22</td><td>0.28</td><td>0.39</td><td>0.50</td><td>0.00</td><td>0.22</td><td>0.17</td><td>0.11</td><td>0.39</td></tr>\n",
       "\t<tr><td>P2  </td><td> 7  </td><td> 6  </td><td> 3  </td><td> 2  </td><td> 7  </td><td> 1  </td><td> 6  </td><td> 3  </td><td> 3  </td><td>... </td><td>0.20</td><td>0.40</td><td>0.50</td><td>0.10</td><td>0.10</td><td>0.40</td><td>0.50</td><td>0.10</td><td>0.60</td><td>0.00</td></tr>\n",
       "\t<tr><td>P3  </td><td> 7  </td><td>11  </td><td> 8  </td><td> 9  </td><td>10  </td><td> 8  </td><td> 7  </td><td>13  </td><td>12  </td><td>... </td><td>0.27</td><td>1.00</td><td>0.18</td><td>0.18</td><td>0.36</td><td>0.45</td><td>1.00</td><td>0.45</td><td>0.45</td><td>0.36</td></tr>\n",
       "\t<tr><td>P4  </td><td>12  </td><td> 8  </td><td>13  </td><td> 5  </td><td> 9  </td><td> 6  </td><td> 9  </td><td>13  </td><td>13  </td><td>... </td><td>0.41</td><td>0.47</td><td>0.06</td><td>0.12</td><td>0.24</td><td>0.35</td><td>0.71</td><td>0.35</td><td>0.29</td><td>0.35</td></tr>\n",
       "\t<tr><td>P5  </td><td> 8  </td><td> 5  </td><td>13  </td><td>11  </td><td> 6  </td><td> 7  </td><td> 9  </td><td>14  </td><td> 9  </td><td>... </td><td>0.27</td><td>0.53</td><td>0.27</td><td>0.60</td><td>0.20</td><td>0.20</td><td>0.13</td><td>0.53</td><td>0.33</td><td>0.40</td></tr>\n",
       "\t<tr><td>P6  </td><td> 3  </td><td> 3  </td><td> 2  </td><td> 7  </td><td> 6  </td><td> 3  </td><td> 8  </td><td> 6  </td><td> 6  </td><td>... </td><td>0.36</td><td>0.18</td><td>0.36</td><td>0.27</td><td>0.55</td><td>0.45</td><td>0.27</td><td>0.27</td><td>0.91</td><td>0.55</td></tr>\n",
       "</tbody>\n",
       "</table>\n"
      ],
      "text/latex": [
       "\\begin{tabular}{r|lllllllllllllllllllllllllllllllllllllllllllllllllllllllllllllllllllllllllllllllllllllllllllllllllllllllllll}\n",
       " Product\\_Code & W0 & W1 & W2 & W3 & W4 & W5 & W6 & W7 & W8 & ... & Normalized.42 & Normalized.43 & Normalized.44 & Normalized.45 & Normalized.46 & Normalized.47 & Normalized.48 & Normalized.49 & Normalized.50 & Normalized.51\\\\\n",
       "\\hline\n",
       "\t P1   & 11   & 12   & 10   &  8   & 13   & 12   & 14   & 21   &  6   & ...  & 0.06 & 0.22 & 0.28 & 0.39 & 0.50 & 0.00 & 0.22 & 0.17 & 0.11 & 0.39\\\\\n",
       "\t P2   &  7   &  6   &  3   &  2   &  7   &  1   &  6   &  3   &  3   & ...  & 0.20 & 0.40 & 0.50 & 0.10 & 0.10 & 0.40 & 0.50 & 0.10 & 0.60 & 0.00\\\\\n",
       "\t P3   &  7   & 11   &  8   &  9   & 10   &  8   &  7   & 13   & 12   & ...  & 0.27 & 1.00 & 0.18 & 0.18 & 0.36 & 0.45 & 1.00 & 0.45 & 0.45 & 0.36\\\\\n",
       "\t P4   & 12   &  8   & 13   &  5   &  9   &  6   &  9   & 13   & 13   & ...  & 0.41 & 0.47 & 0.06 & 0.12 & 0.24 & 0.35 & 0.71 & 0.35 & 0.29 & 0.35\\\\\n",
       "\t P5   &  8   &  5   & 13   & 11   &  6   &  7   &  9   & 14   &  9   & ...  & 0.27 & 0.53 & 0.27 & 0.60 & 0.20 & 0.20 & 0.13 & 0.53 & 0.33 & 0.40\\\\\n",
       "\t P6   &  3   &  3   &  2   &  7   &  6   &  3   &  8   &  6   &  6   & ...  & 0.36 & 0.18 & 0.36 & 0.27 & 0.55 & 0.45 & 0.27 & 0.27 & 0.91 & 0.55\\\\\n",
       "\\end{tabular}\n"
      ],
      "text/markdown": [
       "\n",
       "| Product_Code | W0 | W1 | W2 | W3 | W4 | W5 | W6 | W7 | W8 | ... | Normalized.42 | Normalized.43 | Normalized.44 | Normalized.45 | Normalized.46 | Normalized.47 | Normalized.48 | Normalized.49 | Normalized.50 | Normalized.51 |\n",
       "|---|---|---|---|---|---|---|---|---|---|---|---|---|---|---|---|---|---|---|---|---|\n",
       "| P1   | 11   | 12   | 10   |  8   | 13   | 12   | 14   | 21   |  6   | ...  | 0.06 | 0.22 | 0.28 | 0.39 | 0.50 | 0.00 | 0.22 | 0.17 | 0.11 | 0.39 |\n",
       "| P2   |  7   |  6   |  3   |  2   |  7   |  1   |  6   |  3   |  3   | ...  | 0.20 | 0.40 | 0.50 | 0.10 | 0.10 | 0.40 | 0.50 | 0.10 | 0.60 | 0.00 |\n",
       "| P3   |  7   | 11   |  8   |  9   | 10   |  8   |  7   | 13   | 12   | ...  | 0.27 | 1.00 | 0.18 | 0.18 | 0.36 | 0.45 | 1.00 | 0.45 | 0.45 | 0.36 |\n",
       "| P4   | 12   |  8   | 13   |  5   |  9   |  6   |  9   | 13   | 13   | ...  | 0.41 | 0.47 | 0.06 | 0.12 | 0.24 | 0.35 | 0.71 | 0.35 | 0.29 | 0.35 |\n",
       "| P5   |  8   |  5   | 13   | 11   |  6   |  7   |  9   | 14   |  9   | ...  | 0.27 | 0.53 | 0.27 | 0.60 | 0.20 | 0.20 | 0.13 | 0.53 | 0.33 | 0.40 |\n",
       "| P6   |  3   |  3   |  2   |  7   |  6   |  3   |  8   |  6   |  6   | ...  | 0.36 | 0.18 | 0.36 | 0.27 | 0.55 | 0.45 | 0.27 | 0.27 | 0.91 | 0.55 |\n",
       "\n"
      ],
      "text/plain": [
       "  Product_Code W0 W1 W2 W3 W4 W5 W6 W7 W8 ... Normalized.42 Normalized.43\n",
       "1 P1           11 12 10  8 13 12 14 21  6 ... 0.06          0.22         \n",
       "2 P2            7  6  3  2  7  1  6  3  3 ... 0.20          0.40         \n",
       "3 P3            7 11  8  9 10  8  7 13 12 ... 0.27          1.00         \n",
       "4 P4           12  8 13  5  9  6  9 13 13 ... 0.41          0.47         \n",
       "5 P5            8  5 13 11  6  7  9 14  9 ... 0.27          0.53         \n",
       "6 P6            3  3  2  7  6  3  8  6  6 ... 0.36          0.18         \n",
       "  Normalized.44 Normalized.45 Normalized.46 Normalized.47 Normalized.48\n",
       "1 0.28          0.39          0.50          0.00          0.22         \n",
       "2 0.50          0.10          0.10          0.40          0.50         \n",
       "3 0.18          0.18          0.36          0.45          1.00         \n",
       "4 0.06          0.12          0.24          0.35          0.71         \n",
       "5 0.27          0.60          0.20          0.20          0.13         \n",
       "6 0.36          0.27          0.55          0.45          0.27         \n",
       "  Normalized.49 Normalized.50 Normalized.51\n",
       "1 0.17          0.11          0.39         \n",
       "2 0.10          0.60          0.00         \n",
       "3 0.45          0.45          0.36         \n",
       "4 0.35          0.29          0.35         \n",
       "5 0.53          0.33          0.40         \n",
       "6 0.27          0.91          0.55         "
      ]
     },
     "metadata": {},
     "output_type": "display_data"
    }
   ],
   "source": [
    "head(df)"
   ]
  },
  {
   "cell_type": "code",
   "execution_count": 15,
   "metadata": {},
   "outputs": [
    {
     "data": {
      "text/html": [
       "<table>\n",
       "<thead><tr><th></th><th scope=col>Product_Code</th><th scope=col>W0</th><th scope=col>W1</th><th scope=col>W2</th><th scope=col>W3</th><th scope=col>W4</th><th scope=col>W5</th><th scope=col>W6</th><th scope=col>W7</th><th scope=col>W8</th><th scope=col>...</th><th scope=col>Normalized.42</th><th scope=col>Normalized.43</th><th scope=col>Normalized.44</th><th scope=col>Normalized.45</th><th scope=col>Normalized.46</th><th scope=col>Normalized.47</th><th scope=col>Normalized.48</th><th scope=col>Normalized.49</th><th scope=col>Normalized.50</th><th scope=col>Normalized.51</th></tr></thead>\n",
       "<tbody>\n",
       "\t<tr><th scope=row>806</th><td>P814</td><td>4   </td><td>2   </td><td>2   </td><td>6   </td><td>0   </td><td>4   </td><td>7   </td><td>8   </td><td>3   </td><td>... </td><td>0.38</td><td>0.44</td><td>0.19</td><td>0.25</td><td>0.25</td><td>0.50</td><td>0.25</td><td>1.00</td><td>0.44</td><td>0.69</td></tr>\n",
       "\t<tr><th scope=row>807</th><td>P815</td><td>0   </td><td>0   </td><td>1   </td><td>0   </td><td>0   </td><td>2   </td><td>1   </td><td>0   </td><td>0   </td><td>... </td><td>0.00</td><td>0.33</td><td>0.33</td><td>0.00</td><td>0.00</td><td>0.33</td><td>0.00</td><td>0.00</td><td>0.67</td><td>0.00</td></tr>\n",
       "\t<tr><th scope=row>808</th><td>P816</td><td>0   </td><td>1   </td><td>0   </td><td>0   </td><td>1   </td><td>2   </td><td>2   </td><td>6   </td><td>0   </td><td>... </td><td>0.43</td><td>0.43</td><td>0.57</td><td>0.29</td><td>0.57</td><td>0.71</td><td>0.71</td><td>0.71</td><td>0.86</td><td>0.71</td></tr>\n",
       "\t<tr><th scope=row>809</th><td>P817</td><td>1   </td><td>0   </td><td>0   </td><td>0   </td><td>1   </td><td>1   </td><td>2   </td><td>1   </td><td>1   </td><td>... </td><td>0.50</td><td>0.00</td><td>0.00</td><td>0.50</td><td>0.50</td><td>0.00</td><td>0.00</td><td>0.00</td><td>1.00</td><td>0.75</td></tr>\n",
       "\t<tr><th scope=row>810</th><td>P818</td><td>0   </td><td>0   </td><td>0   </td><td>1   </td><td>0   </td><td>0   </td><td>0   </td><td>0   </td><td>1   </td><td>... </td><td>0.00</td><td>0.00</td><td>0.00</td><td>0.50</td><td>0.50</td><td>0.00</td><td>0.00</td><td>0.00</td><td>1.00</td><td>0.00</td></tr>\n",
       "\t<tr><th scope=row>811</th><td>P819</td><td>0   </td><td>1   </td><td>0   </td><td>0   </td><td>0   </td><td>0   </td><td>0   </td><td>0   </td><td>0   </td><td>... </td><td>0.00</td><td>0.00</td><td>0.00</td><td>0.00</td><td>0.00</td><td>0.00</td><td>0.00</td><td>0.00</td><td>0.00</td><td>0.33</td></tr>\n",
       "</tbody>\n",
       "</table>\n"
      ],
      "text/latex": [
       "\\begin{tabular}{r|lllllllllllllllllllllllllllllllllllllllllllllllllllllllllllllllllllllllllllllllllllllllllllllllllllllllllll}\n",
       "  & Product\\_Code & W0 & W1 & W2 & W3 & W4 & W5 & W6 & W7 & W8 & ... & Normalized.42 & Normalized.43 & Normalized.44 & Normalized.45 & Normalized.46 & Normalized.47 & Normalized.48 & Normalized.49 & Normalized.50 & Normalized.51\\\\\n",
       "\\hline\n",
       "\t806 & P814 & 4    & 2    & 2    & 6    & 0    & 4    & 7    & 8    & 3    & ...  & 0.38 & 0.44 & 0.19 & 0.25 & 0.25 & 0.50 & 0.25 & 1.00 & 0.44 & 0.69\\\\\n",
       "\t807 & P815 & 0    & 0    & 1    & 0    & 0    & 2    & 1    & 0    & 0    & ...  & 0.00 & 0.33 & 0.33 & 0.00 & 0.00 & 0.33 & 0.00 & 0.00 & 0.67 & 0.00\\\\\n",
       "\t808 & P816 & 0    & 1    & 0    & 0    & 1    & 2    & 2    & 6    & 0    & ...  & 0.43 & 0.43 & 0.57 & 0.29 & 0.57 & 0.71 & 0.71 & 0.71 & 0.86 & 0.71\\\\\n",
       "\t809 & P817 & 1    & 0    & 0    & 0    & 1    & 1    & 2    & 1    & 1    & ...  & 0.50 & 0.00 & 0.00 & 0.50 & 0.50 & 0.00 & 0.00 & 0.00 & 1.00 & 0.75\\\\\n",
       "\t810 & P818 & 0    & 0    & 0    & 1    & 0    & 0    & 0    & 0    & 1    & ...  & 0.00 & 0.00 & 0.00 & 0.50 & 0.50 & 0.00 & 0.00 & 0.00 & 1.00 & 0.00\\\\\n",
       "\t811 & P819 & 0    & 1    & 0    & 0    & 0    & 0    & 0    & 0    & 0    & ...  & 0.00 & 0.00 & 0.00 & 0.00 & 0.00 & 0.00 & 0.00 & 0.00 & 0.00 & 0.33\\\\\n",
       "\\end{tabular}\n"
      ],
      "text/markdown": [
       "\n",
       "| <!--/--> | Product_Code | W0 | W1 | W2 | W3 | W4 | W5 | W6 | W7 | W8 | ... | Normalized.42 | Normalized.43 | Normalized.44 | Normalized.45 | Normalized.46 | Normalized.47 | Normalized.48 | Normalized.49 | Normalized.50 | Normalized.51 |\n",
       "|---|---|---|---|---|---|---|---|---|---|---|---|---|---|---|---|---|---|---|---|---|---|\n",
       "| 806 | P814 | 4    | 2    | 2    | 6    | 0    | 4    | 7    | 8    | 3    | ...  | 0.38 | 0.44 | 0.19 | 0.25 | 0.25 | 0.50 | 0.25 | 1.00 | 0.44 | 0.69 |\n",
       "| 807 | P815 | 0    | 0    | 1    | 0    | 0    | 2    | 1    | 0    | 0    | ...  | 0.00 | 0.33 | 0.33 | 0.00 | 0.00 | 0.33 | 0.00 | 0.00 | 0.67 | 0.00 |\n",
       "| 808 | P816 | 0    | 1    | 0    | 0    | 1    | 2    | 2    | 6    | 0    | ...  | 0.43 | 0.43 | 0.57 | 0.29 | 0.57 | 0.71 | 0.71 | 0.71 | 0.86 | 0.71 |\n",
       "| 809 | P817 | 1    | 0    | 0    | 0    | 1    | 1    | 2    | 1    | 1    | ...  | 0.50 | 0.00 | 0.00 | 0.50 | 0.50 | 0.00 | 0.00 | 0.00 | 1.00 | 0.75 |\n",
       "| 810 | P818 | 0    | 0    | 0    | 1    | 0    | 0    | 0    | 0    | 1    | ...  | 0.00 | 0.00 | 0.00 | 0.50 | 0.50 | 0.00 | 0.00 | 0.00 | 1.00 | 0.00 |\n",
       "| 811 | P819 | 0    | 1    | 0    | 0    | 0    | 0    | 0    | 0    | 0    | ...  | 0.00 | 0.00 | 0.00 | 0.00 | 0.00 | 0.00 | 0.00 | 0.00 | 0.00 | 0.33 |\n",
       "\n"
      ],
      "text/plain": [
       "    Product_Code W0 W1 W2 W3 W4 W5 W6 W7 W8 ... Normalized.42 Normalized.43\n",
       "806 P814         4  2  2  6  0  4  7  8  3  ... 0.38          0.44         \n",
       "807 P815         0  0  1  0  0  2  1  0  0  ... 0.00          0.33         \n",
       "808 P816         0  1  0  0  1  2  2  6  0  ... 0.43          0.43         \n",
       "809 P817         1  0  0  0  1  1  2  1  1  ... 0.50          0.00         \n",
       "810 P818         0  0  0  1  0  0  0  0  1  ... 0.00          0.00         \n",
       "811 P819         0  1  0  0  0  0  0  0  0  ... 0.00          0.00         \n",
       "    Normalized.44 Normalized.45 Normalized.46 Normalized.47 Normalized.48\n",
       "806 0.19          0.25          0.25          0.50          0.25         \n",
       "807 0.33          0.00          0.00          0.33          0.00         \n",
       "808 0.57          0.29          0.57          0.71          0.71         \n",
       "809 0.00          0.50          0.50          0.00          0.00         \n",
       "810 0.00          0.50          0.50          0.00          0.00         \n",
       "811 0.00          0.00          0.00          0.00          0.00         \n",
       "    Normalized.49 Normalized.50 Normalized.51\n",
       "806 1.00          0.44          0.69         \n",
       "807 0.00          0.67          0.00         \n",
       "808 0.71          0.86          0.71         \n",
       "809 0.00          1.00          0.75         \n",
       "810 0.00          1.00          0.00         \n",
       "811 0.00          0.00          0.33         "
      ]
     },
     "metadata": {},
     "output_type": "display_data"
    }
   ],
   "source": [
    "# print last 5 rows of df\n",
    "tail(df)"
   ]
  },
  {
   "cell_type": "code",
   "execution_count": 4,
   "metadata": {},
   "outputs": [
    {
     "data": {
      "text/html": [
       "<ol class=list-inline>\n",
       "\t<li>'Product_Code'</li>\n",
       "\t<li>'W0'</li>\n",
       "\t<li>'W1'</li>\n",
       "\t<li>'W2'</li>\n",
       "\t<li>'W3'</li>\n",
       "\t<li>'W4'</li>\n",
       "\t<li>'W5'</li>\n",
       "\t<li>'W6'</li>\n",
       "\t<li>'W7'</li>\n",
       "\t<li>'W8'</li>\n",
       "\t<li>'W9'</li>\n",
       "\t<li>'W10'</li>\n",
       "\t<li>'W11'</li>\n",
       "\t<li>'W12'</li>\n",
       "\t<li>'W13'</li>\n",
       "\t<li>'W14'</li>\n",
       "\t<li>'W15'</li>\n",
       "\t<li>'W16'</li>\n",
       "\t<li>'W17'</li>\n",
       "\t<li>'W18'</li>\n",
       "\t<li>'W19'</li>\n",
       "\t<li>'W20'</li>\n",
       "\t<li>'W21'</li>\n",
       "\t<li>'W22'</li>\n",
       "\t<li>'W23'</li>\n",
       "\t<li>'W24'</li>\n",
       "\t<li>'W25'</li>\n",
       "\t<li>'W26'</li>\n",
       "\t<li>'W27'</li>\n",
       "\t<li>'W28'</li>\n",
       "\t<li>'W29'</li>\n",
       "\t<li>'W30'</li>\n",
       "\t<li>'W31'</li>\n",
       "\t<li>'W32'</li>\n",
       "\t<li>'W33'</li>\n",
       "\t<li>'W34'</li>\n",
       "\t<li>'W35'</li>\n",
       "\t<li>'W36'</li>\n",
       "\t<li>'W37'</li>\n",
       "\t<li>'W38'</li>\n",
       "\t<li>'W39'</li>\n",
       "\t<li>'W40'</li>\n",
       "\t<li>'W41'</li>\n",
       "\t<li>'W42'</li>\n",
       "\t<li>'W43'</li>\n",
       "\t<li>'W44'</li>\n",
       "\t<li>'W45'</li>\n",
       "\t<li>'W46'</li>\n",
       "\t<li>'W47'</li>\n",
       "\t<li>'W48'</li>\n",
       "\t<li>'W49'</li>\n",
       "\t<li>'W50'</li>\n",
       "\t<li>'W51'</li>\n",
       "\t<li>'MIN'</li>\n",
       "\t<li>'MAX'</li>\n",
       "\t<li>'Normalized.0'</li>\n",
       "\t<li>'Normalized.1'</li>\n",
       "\t<li>'Normalized.2'</li>\n",
       "\t<li>'Normalized.3'</li>\n",
       "\t<li>'Normalized.4'</li>\n",
       "\t<li>'Normalized.5'</li>\n",
       "\t<li>'Normalized.6'</li>\n",
       "\t<li>'Normalized.7'</li>\n",
       "\t<li>'Normalized.8'</li>\n",
       "\t<li>'Normalized.9'</li>\n",
       "\t<li>'Normalized.10'</li>\n",
       "\t<li>'Normalized.11'</li>\n",
       "\t<li>'Normalized.12'</li>\n",
       "\t<li>'Normalized.13'</li>\n",
       "\t<li>'Normalized.14'</li>\n",
       "\t<li>'Normalized.15'</li>\n",
       "\t<li>'Normalized.16'</li>\n",
       "\t<li>'Normalized.17'</li>\n",
       "\t<li>'Normalized.18'</li>\n",
       "\t<li>'Normalized.19'</li>\n",
       "\t<li>'Normalized.20'</li>\n",
       "\t<li>'Normalized.21'</li>\n",
       "\t<li>'Normalized.22'</li>\n",
       "\t<li>'Normalized.23'</li>\n",
       "\t<li>'Normalized.24'</li>\n",
       "\t<li>'Normalized.25'</li>\n",
       "\t<li>'Normalized.26'</li>\n",
       "\t<li>'Normalized.27'</li>\n",
       "\t<li>'Normalized.28'</li>\n",
       "\t<li>'Normalized.29'</li>\n",
       "\t<li>'Normalized.30'</li>\n",
       "\t<li>'Normalized.31'</li>\n",
       "\t<li>'Normalized.32'</li>\n",
       "\t<li>'Normalized.33'</li>\n",
       "\t<li>'Normalized.34'</li>\n",
       "\t<li>'Normalized.35'</li>\n",
       "\t<li>'Normalized.36'</li>\n",
       "\t<li>'Normalized.37'</li>\n",
       "\t<li>'Normalized.38'</li>\n",
       "\t<li>'Normalized.39'</li>\n",
       "\t<li>'Normalized.40'</li>\n",
       "\t<li>'Normalized.41'</li>\n",
       "\t<li>'Normalized.42'</li>\n",
       "\t<li>'Normalized.43'</li>\n",
       "\t<li>'Normalized.44'</li>\n",
       "\t<li>'Normalized.45'</li>\n",
       "\t<li>'Normalized.46'</li>\n",
       "\t<li>'Normalized.47'</li>\n",
       "\t<li>'Normalized.48'</li>\n",
       "\t<li>'Normalized.49'</li>\n",
       "\t<li>'Normalized.50'</li>\n",
       "\t<li>'Normalized.51'</li>\n",
       "</ol>\n"
      ],
      "text/latex": [
       "\\begin{enumerate*}\n",
       "\\item 'Product\\_Code'\n",
       "\\item 'W0'\n",
       "\\item 'W1'\n",
       "\\item 'W2'\n",
       "\\item 'W3'\n",
       "\\item 'W4'\n",
       "\\item 'W5'\n",
       "\\item 'W6'\n",
       "\\item 'W7'\n",
       "\\item 'W8'\n",
       "\\item 'W9'\n",
       "\\item 'W10'\n",
       "\\item 'W11'\n",
       "\\item 'W12'\n",
       "\\item 'W13'\n",
       "\\item 'W14'\n",
       "\\item 'W15'\n",
       "\\item 'W16'\n",
       "\\item 'W17'\n",
       "\\item 'W18'\n",
       "\\item 'W19'\n",
       "\\item 'W20'\n",
       "\\item 'W21'\n",
       "\\item 'W22'\n",
       "\\item 'W23'\n",
       "\\item 'W24'\n",
       "\\item 'W25'\n",
       "\\item 'W26'\n",
       "\\item 'W27'\n",
       "\\item 'W28'\n",
       "\\item 'W29'\n",
       "\\item 'W30'\n",
       "\\item 'W31'\n",
       "\\item 'W32'\n",
       "\\item 'W33'\n",
       "\\item 'W34'\n",
       "\\item 'W35'\n",
       "\\item 'W36'\n",
       "\\item 'W37'\n",
       "\\item 'W38'\n",
       "\\item 'W39'\n",
       "\\item 'W40'\n",
       "\\item 'W41'\n",
       "\\item 'W42'\n",
       "\\item 'W43'\n",
       "\\item 'W44'\n",
       "\\item 'W45'\n",
       "\\item 'W46'\n",
       "\\item 'W47'\n",
       "\\item 'W48'\n",
       "\\item 'W49'\n",
       "\\item 'W50'\n",
       "\\item 'W51'\n",
       "\\item 'MIN'\n",
       "\\item 'MAX'\n",
       "\\item 'Normalized.0'\n",
       "\\item 'Normalized.1'\n",
       "\\item 'Normalized.2'\n",
       "\\item 'Normalized.3'\n",
       "\\item 'Normalized.4'\n",
       "\\item 'Normalized.5'\n",
       "\\item 'Normalized.6'\n",
       "\\item 'Normalized.7'\n",
       "\\item 'Normalized.8'\n",
       "\\item 'Normalized.9'\n",
       "\\item 'Normalized.10'\n",
       "\\item 'Normalized.11'\n",
       "\\item 'Normalized.12'\n",
       "\\item 'Normalized.13'\n",
       "\\item 'Normalized.14'\n",
       "\\item 'Normalized.15'\n",
       "\\item 'Normalized.16'\n",
       "\\item 'Normalized.17'\n",
       "\\item 'Normalized.18'\n",
       "\\item 'Normalized.19'\n",
       "\\item 'Normalized.20'\n",
       "\\item 'Normalized.21'\n",
       "\\item 'Normalized.22'\n",
       "\\item 'Normalized.23'\n",
       "\\item 'Normalized.24'\n",
       "\\item 'Normalized.25'\n",
       "\\item 'Normalized.26'\n",
       "\\item 'Normalized.27'\n",
       "\\item 'Normalized.28'\n",
       "\\item 'Normalized.29'\n",
       "\\item 'Normalized.30'\n",
       "\\item 'Normalized.31'\n",
       "\\item 'Normalized.32'\n",
       "\\item 'Normalized.33'\n",
       "\\item 'Normalized.34'\n",
       "\\item 'Normalized.35'\n",
       "\\item 'Normalized.36'\n",
       "\\item 'Normalized.37'\n",
       "\\item 'Normalized.38'\n",
       "\\item 'Normalized.39'\n",
       "\\item 'Normalized.40'\n",
       "\\item 'Normalized.41'\n",
       "\\item 'Normalized.42'\n",
       "\\item 'Normalized.43'\n",
       "\\item 'Normalized.44'\n",
       "\\item 'Normalized.45'\n",
       "\\item 'Normalized.46'\n",
       "\\item 'Normalized.47'\n",
       "\\item 'Normalized.48'\n",
       "\\item 'Normalized.49'\n",
       "\\item 'Normalized.50'\n",
       "\\item 'Normalized.51'\n",
       "\\end{enumerate*}\n"
      ],
      "text/markdown": [
       "1. 'Product_Code'\n",
       "2. 'W0'\n",
       "3. 'W1'\n",
       "4. 'W2'\n",
       "5. 'W3'\n",
       "6. 'W4'\n",
       "7. 'W5'\n",
       "8. 'W6'\n",
       "9. 'W7'\n",
       "10. 'W8'\n",
       "11. 'W9'\n",
       "12. 'W10'\n",
       "13. 'W11'\n",
       "14. 'W12'\n",
       "15. 'W13'\n",
       "16. 'W14'\n",
       "17. 'W15'\n",
       "18. 'W16'\n",
       "19. 'W17'\n",
       "20. 'W18'\n",
       "21. 'W19'\n",
       "22. 'W20'\n",
       "23. 'W21'\n",
       "24. 'W22'\n",
       "25. 'W23'\n",
       "26. 'W24'\n",
       "27. 'W25'\n",
       "28. 'W26'\n",
       "29. 'W27'\n",
       "30. 'W28'\n",
       "31. 'W29'\n",
       "32. 'W30'\n",
       "33. 'W31'\n",
       "34. 'W32'\n",
       "35. 'W33'\n",
       "36. 'W34'\n",
       "37. 'W35'\n",
       "38. 'W36'\n",
       "39. 'W37'\n",
       "40. 'W38'\n",
       "41. 'W39'\n",
       "42. 'W40'\n",
       "43. 'W41'\n",
       "44. 'W42'\n",
       "45. 'W43'\n",
       "46. 'W44'\n",
       "47. 'W45'\n",
       "48. 'W46'\n",
       "49. 'W47'\n",
       "50. 'W48'\n",
       "51. 'W49'\n",
       "52. 'W50'\n",
       "53. 'W51'\n",
       "54. 'MIN'\n",
       "55. 'MAX'\n",
       "56. 'Normalized.0'\n",
       "57. 'Normalized.1'\n",
       "58. 'Normalized.2'\n",
       "59. 'Normalized.3'\n",
       "60. 'Normalized.4'\n",
       "61. 'Normalized.5'\n",
       "62. 'Normalized.6'\n",
       "63. 'Normalized.7'\n",
       "64. 'Normalized.8'\n",
       "65. 'Normalized.9'\n",
       "66. 'Normalized.10'\n",
       "67. 'Normalized.11'\n",
       "68. 'Normalized.12'\n",
       "69. 'Normalized.13'\n",
       "70. 'Normalized.14'\n",
       "71. 'Normalized.15'\n",
       "72. 'Normalized.16'\n",
       "73. 'Normalized.17'\n",
       "74. 'Normalized.18'\n",
       "75. 'Normalized.19'\n",
       "76. 'Normalized.20'\n",
       "77. 'Normalized.21'\n",
       "78. 'Normalized.22'\n",
       "79. 'Normalized.23'\n",
       "80. 'Normalized.24'\n",
       "81. 'Normalized.25'\n",
       "82. 'Normalized.26'\n",
       "83. 'Normalized.27'\n",
       "84. 'Normalized.28'\n",
       "85. 'Normalized.29'\n",
       "86. 'Normalized.30'\n",
       "87. 'Normalized.31'\n",
       "88. 'Normalized.32'\n",
       "89. 'Normalized.33'\n",
       "90. 'Normalized.34'\n",
       "91. 'Normalized.35'\n",
       "92. 'Normalized.36'\n",
       "93. 'Normalized.37'\n",
       "94. 'Normalized.38'\n",
       "95. 'Normalized.39'\n",
       "96. 'Normalized.40'\n",
       "97. 'Normalized.41'\n",
       "98. 'Normalized.42'\n",
       "99. 'Normalized.43'\n",
       "100. 'Normalized.44'\n",
       "101. 'Normalized.45'\n",
       "102. 'Normalized.46'\n",
       "103. 'Normalized.47'\n",
       "104. 'Normalized.48'\n",
       "105. 'Normalized.49'\n",
       "106. 'Normalized.50'\n",
       "107. 'Normalized.51'\n",
       "\n",
       "\n"
      ],
      "text/plain": [
       "  [1] \"Product_Code\"  \"W0\"            \"W1\"            \"W2\"           \n",
       "  [5] \"W3\"            \"W4\"            \"W5\"            \"W6\"           \n",
       "  [9] \"W7\"            \"W8\"            \"W9\"            \"W10\"          \n",
       " [13] \"W11\"           \"W12\"           \"W13\"           \"W14\"          \n",
       " [17] \"W15\"           \"W16\"           \"W17\"           \"W18\"          \n",
       " [21] \"W19\"           \"W20\"           \"W21\"           \"W22\"          \n",
       " [25] \"W23\"           \"W24\"           \"W25\"           \"W26\"          \n",
       " [29] \"W27\"           \"W28\"           \"W29\"           \"W30\"          \n",
       " [33] \"W31\"           \"W32\"           \"W33\"           \"W34\"          \n",
       " [37] \"W35\"           \"W36\"           \"W37\"           \"W38\"          \n",
       " [41] \"W39\"           \"W40\"           \"W41\"           \"W42\"          \n",
       " [45] \"W43\"           \"W44\"           \"W45\"           \"W46\"          \n",
       " [49] \"W47\"           \"W48\"           \"W49\"           \"W50\"          \n",
       " [53] \"W51\"           \"MIN\"           \"MAX\"           \"Normalized.0\" \n",
       " [57] \"Normalized.1\"  \"Normalized.2\"  \"Normalized.3\"  \"Normalized.4\" \n",
       " [61] \"Normalized.5\"  \"Normalized.6\"  \"Normalized.7\"  \"Normalized.8\" \n",
       " [65] \"Normalized.9\"  \"Normalized.10\" \"Normalized.11\" \"Normalized.12\"\n",
       " [69] \"Normalized.13\" \"Normalized.14\" \"Normalized.15\" \"Normalized.16\"\n",
       " [73] \"Normalized.17\" \"Normalized.18\" \"Normalized.19\" \"Normalized.20\"\n",
       " [77] \"Normalized.21\" \"Normalized.22\" \"Normalized.23\" \"Normalized.24\"\n",
       " [81] \"Normalized.25\" \"Normalized.26\" \"Normalized.27\" \"Normalized.28\"\n",
       " [85] \"Normalized.29\" \"Normalized.30\" \"Normalized.31\" \"Normalized.32\"\n",
       " [89] \"Normalized.33\" \"Normalized.34\" \"Normalized.35\" \"Normalized.36\"\n",
       " [93] \"Normalized.37\" \"Normalized.38\" \"Normalized.39\" \"Normalized.40\"\n",
       " [97] \"Normalized.41\" \"Normalized.42\" \"Normalized.43\" \"Normalized.44\"\n",
       "[101] \"Normalized.45\" \"Normalized.46\" \"Normalized.47\" \"Normalized.48\"\n",
       "[105] \"Normalized.49\" \"Normalized.50\" \"Normalized.51\""
      ]
     },
     "metadata": {},
     "output_type": "display_data"
    }
   ],
   "source": [
    "names(df)"
   ]
  },
  {
   "cell_type": "markdown",
   "metadata": {},
   "source": [
    "The provided data set contains weekly purchased quantities of 800 products over 52 weeks."
   ]
  },
  {
   "cell_type": "code",
   "execution_count": 5,
   "metadata": {},
   "outputs": [
    {
     "name": "stdout",
     "output_type": "stream",
     "text": [
      "'data.frame':\t811 obs. of  107 variables:\n",
      " $ Product_Code : Factor w/ 811 levels \"P1\",\"P10\",\"P100\",..: 1 112 223 332 443 554 663 770 801 2 ...\n",
      " $ W0           : int  11 7 7 12 8 3 4 8 14 22 ...\n",
      " $ W1           : int  12 6 11 8 5 3 8 6 9 19 ...\n",
      " $ W2           : int  10 3 8 13 13 2 3 10 10 19 ...\n",
      " $ W3           : int  8 2 9 5 11 7 7 9 7 29 ...\n",
      " $ W4           : int  13 7 10 9 6 6 8 6 11 20 ...\n",
      " $ W5           : int  12 1 8 6 7 3 7 8 15 16 ...\n",
      " $ W6           : int  14 6 7 9 9 8 2 7 12 26 ...\n",
      " $ W7           : int  21 3 13 13 14 6 3 5 7 20 ...\n",
      " $ W8           : int  6 3 12 13 9 6 10 10 13 24 ...\n",
      " $ W9           : int  14 3 6 11 9 3 3 10 12 20 ...\n",
      " $ W10          : int  11 2 14 8 11 1 5 8 15 31 ...\n",
      " $ W11          : int  14 2 9 4 18 1 2 8 15 22 ...\n",
      " $ W12          : int  16 6 4 5 8 5 3 15 16 23 ...\n",
      " $ W13          : int  9 2 7 4 4 4 4 9 10 19 ...\n",
      " $ W14          : int  9 0 12 15 13 3 5 5 9 15 ...\n",
      " $ W15          : int  9 6 8 7 8 5 3 11 9 19 ...\n",
      " $ W16          : int  14 2 7 11 10 3 7 10 13 22 ...\n",
      " $ W17          : int  9 7 11 9 15 5 10 7 8 23 ...\n",
      " $ W18          : int  3 7 10 15 6 10 0 13 10 20 ...\n",
      " $ W19          : int  12 9 7 4 13 8 3 9 18 33 ...\n",
      " $ W20          : int  5 4 7 6 11 4 7 12 18 16 ...\n",
      " $ W21          : int  11 7 13 7 6 9 5 11 17 23 ...\n",
      " $ W22          : int  7 2 11 11 10 7 1 5 10 23 ...\n",
      " $ W23          : int  12 4 8 7 9 5 5 11 16 16 ...\n",
      " $ W24          : int  5 5 10 9 8 4 7 11 14 25 ...\n",
      " $ W25          : int  9 3 8 6 12 2 5 12 10 27 ...\n",
      " $ W26          : int  7 5 14 10 8 1 2 3 4 12 ...\n",
      " $ W27          : int  10 8 5 10 9 3 4 10 7 15 ...\n",
      " $ W28          : int  5 5 3 2 13 2 3 12 7 15 ...\n",
      " $ W29          : int  11 5 13 6 3 4 1 9 10 11 ...\n",
      " $ W30          : int  7 3 11 7 5 0 3 9 3 14 ...\n",
      " $ W31          : int  10 1 9 2 3 3 2 10 13 29 ...\n",
      " $ W32          : int  12 3 7 5 5 2 2 8 9 23 ...\n",
      " $ W33          : int  6 2 8 12 5 11 4 9 7 12 ...\n",
      " $ W34          : int  5 3 7 5 9 2 2 8 9 16 ...\n",
      " $ W35          : int  14 10 9 19 7 1 6 9 8 9 ...\n",
      " $ W36          : int  10 5 6 8 4 4 4 15 7 23 ...\n",
      " $ W37          : int  9 2 12 6 8 4 5 6 9 22 ...\n",
      " $ W38          : int  12 7 12 8 8 3 1 7 15 15 ...\n",
      " $ W39          : int  17 3 9 8 5 2 3 8 8 18 ...\n",
      " $ W40          : int  7 2 3 12 5 5 5 3 9 13 ...\n",
      " $ W41          : int  11 5 5 6 8 4 8 9 8 17 ...\n",
      " $ W42          : int  4 2 6 9 7 4 2 10 11 14 ...\n",
      " $ W43          : int  7 4 14 10 11 2 3 14 5 17 ...\n",
      " $ W44          : int  8 5 5 3 7 4 3 4 13 11 ...\n",
      " $ W45          : int  10 1 5 4 12 3 6 8 3 24 ...\n",
      " $ W46          : int  12 1 7 6 6 6 2 8 7 13 ...\n",
      " $ W47          : int  3 4 8 8 6 5 6 6 7 16 ...\n",
      " $ W48          : int  7 5 14 14 5 3 2 7 10 18 ...\n",
      " $ W49          : int  6 1 8 8 11 3 4 4 12 23 ...\n",
      " $ W50          : int  5 6 8 7 8 10 2 9 7 18 ...\n",
      " $ W51          : int  10 0 7 8 9 6 1 9 13 20 ...\n",
      " $ MIN          : int  3 0 3 2 3 0 0 3 3 9 ...\n",
      " $ MAX          : int  21 10 14 19 18 11 10 15 18 33 ...\n",
      " $ Normalized.0 : num  0.44 0.7 0.36 0.59 0.33 0.27 0.4 0.42 0.73 0.54 ...\n",
      " $ Normalized.1 : num  0.5 0.6 0.73 0.35 0.13 0.27 0.8 0.25 0.4 0.42 ...\n",
      " $ Normalized.2 : num  0.39 0.3 0.45 0.65 0.67 0.18 0.3 0.58 0.47 0.42 ...\n",
      " $ Normalized.3 : num  0.28 0.2 0.55 0.18 0.53 0.64 0.7 0.5 0.27 0.83 ...\n",
      " $ Normalized.4 : num  0.56 0.7 0.64 0.41 0.2 0.55 0.8 0.25 0.53 0.46 ...\n",
      " $ Normalized.5 : num  0.5 0.1 0.45 0.24 0.27 0.27 0.7 0.42 0.8 0.29 ...\n",
      " $ Normalized.6 : num  0.61 0.6 0.36 0.41 0.4 0.73 0.2 0.33 0.6 0.71 ...\n",
      " $ Normalized.7 : num  1 0.3 0.91 0.65 0.73 0.55 0.3 0.17 0.27 0.46 ...\n",
      " $ Normalized.8 : num  0.17 0.3 0.82 0.65 0.4 0.55 1 0.58 0.67 0.63 ...\n",
      " $ Normalized.9 : num  0.61 0.3 0.27 0.53 0.4 0.27 0.3 0.58 0.6 0.46 ...\n",
      " $ Normalized.10: num  0.44 0.2 1 0.35 0.53 0.09 0.5 0.42 0.8 0.92 ...\n",
      " $ Normalized.11: num  0.61 0.2 0.55 0.12 1 0.09 0.2 0.42 0.8 0.54 ...\n",
      " $ Normalized.12: num  0.72 0.6 0.09 0.18 0.33 0.45 0.3 1 0.87 0.58 ...\n",
      " $ Normalized.13: num  0.33 0.2 0.36 0.12 0.07 0.36 0.4 0.5 0.47 0.42 ...\n",
      " $ Normalized.14: num  0.33 0 0.82 0.76 0.67 0.27 0.5 0.17 0.4 0.25 ...\n",
      " $ Normalized.15: num  0.33 0.6 0.45 0.29 0.33 0.45 0.3 0.67 0.4 0.42 ...\n",
      " $ Normalized.16: num  0.61 0.2 0.36 0.53 0.47 0.27 0.7 0.58 0.67 0.54 ...\n",
      " $ Normalized.17: num  0.33 0.7 0.73 0.41 0.8 0.45 1 0.33 0.33 0.58 ...\n",
      " $ Normalized.18: num  0 0.7 0.64 0.76 0.2 0.91 0 0.83 0.47 0.46 ...\n",
      " $ Normalized.19: num  0.5 0.9 0.36 0.12 0.67 0.73 0.3 0.5 1 1 ...\n",
      " $ Normalized.20: num  0.11 0.4 0.36 0.24 0.53 0.36 0.7 0.75 1 0.29 ...\n",
      " $ Normalized.21: num  0.44 0.7 0.91 0.29 0.2 0.82 0.5 0.67 0.93 0.58 ...\n",
      " $ Normalized.22: num  0.22 0.2 0.73 0.53 0.47 0.64 0.1 0.17 0.47 0.58 ...\n",
      " $ Normalized.23: num  0.5 0.4 0.45 0.29 0.4 0.45 0.5 0.67 0.87 0.29 ...\n",
      " $ Normalized.24: num  0.11 0.5 0.64 0.41 0.33 0.36 0.7 0.67 0.73 0.67 ...\n",
      " $ Normalized.25: num  0.33 0.3 0.45 0.24 0.6 0.18 0.5 0.75 0.47 0.75 ...\n",
      " $ Normalized.26: num  0.22 0.5 1 0.47 0.33 0.09 0.2 0 0.07 0.13 ...\n",
      " $ Normalized.27: num  0.39 0.8 0.18 0.47 0.4 0.27 0.4 0.58 0.27 0.25 ...\n",
      " $ Normalized.28: num  0.11 0.5 0 0 0.67 0.18 0.3 0.75 0.27 0.25 ...\n",
      " $ Normalized.29: num  0.44 0.5 0.91 0.24 0 0.36 0.1 0.5 0.47 0.08 ...\n",
      " $ Normalized.30: num  0.22 0.3 0.73 0.29 0.13 0 0.3 0.5 0 0.21 ...\n",
      " $ Normalized.31: num  0.39 0.1 0.55 0 0 0.27 0.2 0.58 0.67 0.83 ...\n",
      " $ Normalized.32: num  0.5 0.3 0.36 0.18 0.13 0.18 0.2 0.42 0.4 0.58 ...\n",
      " $ Normalized.33: num  0.17 0.2 0.45 0.59 0.13 1 0.4 0.5 0.27 0.13 ...\n",
      " $ Normalized.34: num  0.11 0.3 0.36 0.18 0.4 0.18 0.2 0.42 0.4 0.29 ...\n",
      " $ Normalized.35: num  0.61 1 0.55 1 0.27 0.09 0.6 0.5 0.33 0 ...\n",
      " $ Normalized.36: num  0.39 0.5 0.27 0.35 0.07 0.36 0.4 1 0.27 0.58 ...\n",
      " $ Normalized.37: num  0.33 0.2 0.82 0.24 0.33 0.36 0.5 0.25 0.4 0.54 ...\n",
      " $ Normalized.38: num  0.5 0.7 0.82 0.35 0.33 0.27 0.1 0.33 0.8 0.25 ...\n",
      " $ Normalized.39: num  0.78 0.3 0.55 0.35 0.13 0.18 0.3 0.42 0.33 0.38 ...\n",
      " $ Normalized.40: num  0.22 0.2 0 0.59 0.13 0.45 0.5 0 0.4 0.17 ...\n",
      " $ Normalized.41: num  0.44 0.5 0.18 0.24 0.33 0.36 0.8 0.5 0.33 0.33 ...\n",
      " $ Normalized.42: num  0.06 0.2 0.27 0.41 0.27 0.36 0.2 0.58 0.53 0.21 ...\n",
      " $ Normalized.43: num  0.22 0.4 1 0.47 0.53 0.18 0.3 0.92 0.13 0.33 ...\n",
      "  [list output truncated]\n"
     ]
    }
   ],
   "source": [
    "# list the structure of df\n",
    "str(df)"
   ]
  },
  {
   "cell_type": "code",
   "execution_count": 2,
   "metadata": {},
   "outputs": [
    {
     "data": {
      "text/html": [
       "<ol class=list-inline>\n",
       "\t<li>'W0'</li>\n",
       "\t<li>'W1'</li>\n",
       "\t<li>'W2'</li>\n",
       "\t<li>'W3'</li>\n",
       "\t<li>'W4'</li>\n",
       "\t<li>'W5'</li>\n",
       "\t<li>'W6'</li>\n",
       "\t<li>'W7'</li>\n",
       "\t<li>'W8'</li>\n",
       "\t<li>'W9'</li>\n",
       "\t<li>'W10'</li>\n",
       "\t<li>'W11'</li>\n",
       "\t<li>'W12'</li>\n",
       "\t<li>'W13'</li>\n",
       "\t<li>'W14'</li>\n",
       "\t<li>'W15'</li>\n",
       "\t<li>'W16'</li>\n",
       "\t<li>'W17'</li>\n",
       "\t<li>'W18'</li>\n",
       "\t<li>'W19'</li>\n",
       "\t<li>'W20'</li>\n",
       "\t<li>'W21'</li>\n",
       "\t<li>'W22'</li>\n",
       "\t<li>'W23'</li>\n",
       "\t<li>'W24'</li>\n",
       "\t<li>'W25'</li>\n",
       "\t<li>'W26'</li>\n",
       "\t<li>'W27'</li>\n",
       "\t<li>'W28'</li>\n",
       "\t<li>'W29'</li>\n",
       "\t<li>'W30'</li>\n",
       "\t<li>'W31'</li>\n",
       "\t<li>'W32'</li>\n",
       "\t<li>'W33'</li>\n",
       "\t<li>'W34'</li>\n",
       "\t<li>'W35'</li>\n",
       "\t<li>'W36'</li>\n",
       "\t<li>'W37'</li>\n",
       "\t<li>'W38'</li>\n",
       "\t<li>'W39'</li>\n",
       "\t<li>'W40'</li>\n",
       "\t<li>'W41'</li>\n",
       "\t<li>'W42'</li>\n",
       "\t<li>'W43'</li>\n",
       "\t<li>'W44'</li>\n",
       "\t<li>'W45'</li>\n",
       "\t<li>'W46'</li>\n",
       "\t<li>'W47'</li>\n",
       "\t<li>'W48'</li>\n",
       "\t<li>'W49'</li>\n",
       "\t<li>'W50'</li>\n",
       "\t<li>'W51'</li>\n",
       "</ol>\n"
      ],
      "text/latex": [
       "\\begin{enumerate*}\n",
       "\\item 'W0'\n",
       "\\item 'W1'\n",
       "\\item 'W2'\n",
       "\\item 'W3'\n",
       "\\item 'W4'\n",
       "\\item 'W5'\n",
       "\\item 'W6'\n",
       "\\item 'W7'\n",
       "\\item 'W8'\n",
       "\\item 'W9'\n",
       "\\item 'W10'\n",
       "\\item 'W11'\n",
       "\\item 'W12'\n",
       "\\item 'W13'\n",
       "\\item 'W14'\n",
       "\\item 'W15'\n",
       "\\item 'W16'\n",
       "\\item 'W17'\n",
       "\\item 'W18'\n",
       "\\item 'W19'\n",
       "\\item 'W20'\n",
       "\\item 'W21'\n",
       "\\item 'W22'\n",
       "\\item 'W23'\n",
       "\\item 'W24'\n",
       "\\item 'W25'\n",
       "\\item 'W26'\n",
       "\\item 'W27'\n",
       "\\item 'W28'\n",
       "\\item 'W29'\n",
       "\\item 'W30'\n",
       "\\item 'W31'\n",
       "\\item 'W32'\n",
       "\\item 'W33'\n",
       "\\item 'W34'\n",
       "\\item 'W35'\n",
       "\\item 'W36'\n",
       "\\item 'W37'\n",
       "\\item 'W38'\n",
       "\\item 'W39'\n",
       "\\item 'W40'\n",
       "\\item 'W41'\n",
       "\\item 'W42'\n",
       "\\item 'W43'\n",
       "\\item 'W44'\n",
       "\\item 'W45'\n",
       "\\item 'W46'\n",
       "\\item 'W47'\n",
       "\\item 'W48'\n",
       "\\item 'W49'\n",
       "\\item 'W50'\n",
       "\\item 'W51'\n",
       "\\end{enumerate*}\n"
      ],
      "text/markdown": [
       "1. 'W0'\n",
       "2. 'W1'\n",
       "3. 'W2'\n",
       "4. 'W3'\n",
       "5. 'W4'\n",
       "6. 'W5'\n",
       "7. 'W6'\n",
       "8. 'W7'\n",
       "9. 'W8'\n",
       "10. 'W9'\n",
       "11. 'W10'\n",
       "12. 'W11'\n",
       "13. 'W12'\n",
       "14. 'W13'\n",
       "15. 'W14'\n",
       "16. 'W15'\n",
       "17. 'W16'\n",
       "18. 'W17'\n",
       "19. 'W18'\n",
       "20. 'W19'\n",
       "21. 'W20'\n",
       "22. 'W21'\n",
       "23. 'W22'\n",
       "24. 'W23'\n",
       "25. 'W24'\n",
       "26. 'W25'\n",
       "27. 'W26'\n",
       "28. 'W27'\n",
       "29. 'W28'\n",
       "30. 'W29'\n",
       "31. 'W30'\n",
       "32. 'W31'\n",
       "33. 'W32'\n",
       "34. 'W33'\n",
       "35. 'W34'\n",
       "36. 'W35'\n",
       "37. 'W36'\n",
       "38. 'W37'\n",
       "39. 'W38'\n",
       "40. 'W39'\n",
       "41. 'W40'\n",
       "42. 'W41'\n",
       "43. 'W42'\n",
       "44. 'W43'\n",
       "45. 'W44'\n",
       "46. 'W45'\n",
       "47. 'W46'\n",
       "48. 'W47'\n",
       "49. 'W48'\n",
       "50. 'W49'\n",
       "51. 'W50'\n",
       "52. 'W51'\n",
       "\n",
       "\n"
      ],
      "text/plain": [
       " [1] \"W0\"  \"W1\"  \"W2\"  \"W3\"  \"W4\"  \"W5\"  \"W6\"  \"W7\"  \"W8\"  \"W9\"  \"W10\" \"W11\"\n",
       "[13] \"W12\" \"W13\" \"W14\" \"W15\" \"W16\" \"W17\" \"W18\" \"W19\" \"W20\" \"W21\" \"W22\" \"W23\"\n",
       "[25] \"W24\" \"W25\" \"W26\" \"W27\" \"W28\" \"W29\" \"W30\" \"W31\" \"W32\" \"W33\" \"W34\" \"W35\"\n",
       "[37] \"W36\" \"W37\" \"W38\" \"W39\" \"W40\" \"W41\" \"W42\" \"W43\" \"W44\" \"W45\" \"W46\" \"W47\"\n",
       "[49] \"W48\" \"W49\" \"W50\" \"W51\""
      ]
     },
     "metadata": {},
     "output_type": "display_data"
    }
   ],
   "source": [
    "DF <- data.frame(df[, 2:53], row.names = df$Product_Code)\n",
    "names(DF)\n"
   ]
  },
  {
   "cell_type": "code",
   "execution_count": 7,
   "metadata": {},
   "outputs": [
    {
     "data": {
      "text/html": [
       "<table>\n",
       "<thead><tr><th></th><th scope=col>W0</th><th scope=col>W1</th><th scope=col>W2</th><th scope=col>W3</th><th scope=col>W4</th><th scope=col>W5</th><th scope=col>W6</th><th scope=col>W7</th><th scope=col>W8</th><th scope=col>W9</th><th scope=col>...</th><th scope=col>W42</th><th scope=col>W43</th><th scope=col>W44</th><th scope=col>W45</th><th scope=col>W46</th><th scope=col>W47</th><th scope=col>W48</th><th scope=col>W49</th><th scope=col>W50</th><th scope=col>W51</th></tr></thead>\n",
       "<tbody>\n",
       "\t<tr><th scope=row>P1</th><td>11 </td><td>12 </td><td>10 </td><td> 8 </td><td>13 </td><td>12 </td><td>14 </td><td>21 </td><td> 6 </td><td>14 </td><td>...</td><td>4  </td><td> 7 </td><td>8  </td><td>10 </td><td>12 </td><td>3  </td><td> 7 </td><td> 6 </td><td> 5 </td><td>10 </td></tr>\n",
       "\t<tr><th scope=row>P2</th><td> 7 </td><td> 6 </td><td> 3 </td><td> 2 </td><td> 7 </td><td> 1 </td><td> 6 </td><td> 3 </td><td> 3 </td><td> 3 </td><td>...</td><td>2  </td><td> 4 </td><td>5  </td><td> 1 </td><td> 1 </td><td>4  </td><td> 5 </td><td> 1 </td><td> 6 </td><td> 0 </td></tr>\n",
       "\t<tr><th scope=row>P3</th><td> 7 </td><td>11 </td><td> 8 </td><td> 9 </td><td>10 </td><td> 8 </td><td> 7 </td><td>13 </td><td>12 </td><td> 6 </td><td>...</td><td>6  </td><td>14 </td><td>5  </td><td> 5 </td><td> 7 </td><td>8  </td><td>14 </td><td> 8 </td><td> 8 </td><td> 7 </td></tr>\n",
       "\t<tr><th scope=row>P4</th><td>12 </td><td> 8 </td><td>13 </td><td> 5 </td><td> 9 </td><td> 6 </td><td> 9 </td><td>13 </td><td>13 </td><td>11 </td><td>...</td><td>9  </td><td>10 </td><td>3  </td><td> 4 </td><td> 6 </td><td>8  </td><td>14 </td><td> 8 </td><td> 7 </td><td> 8 </td></tr>\n",
       "\t<tr><th scope=row>P5</th><td> 8 </td><td> 5 </td><td>13 </td><td>11 </td><td> 6 </td><td> 7 </td><td> 9 </td><td>14 </td><td> 9 </td><td> 9 </td><td>...</td><td>7  </td><td>11 </td><td>7  </td><td>12 </td><td> 6 </td><td>6  </td><td> 5 </td><td>11 </td><td> 8 </td><td> 9 </td></tr>\n",
       "\t<tr><th scope=row>P6</th><td> 3 </td><td> 3 </td><td> 2 </td><td> 7 </td><td> 6 </td><td> 3 </td><td> 8 </td><td> 6 </td><td> 6 </td><td> 3 </td><td>...</td><td>4  </td><td> 2 </td><td>4  </td><td> 3 </td><td> 6 </td><td>5  </td><td> 3 </td><td> 3 </td><td>10 </td><td> 6 </td></tr>\n",
       "</tbody>\n",
       "</table>\n"
      ],
      "text/latex": [
       "\\begin{tabular}{r|llllllllllllllllllllllllllllllllllllllllllllllllllll}\n",
       "  & W0 & W1 & W2 & W3 & W4 & W5 & W6 & W7 & W8 & W9 & ... & W42 & W43 & W44 & W45 & W46 & W47 & W48 & W49 & W50 & W51\\\\\n",
       "\\hline\n",
       "\tP1 & 11  & 12  & 10  &  8  & 13  & 12  & 14  & 21  &  6  & 14  & ... & 4   &  7  & 8   & 10  & 12  & 3   &  7  &  6  &  5  & 10 \\\\\n",
       "\tP2 &  7  &  6  &  3  &  2  &  7  &  1  &  6  &  3  &  3  &  3  & ... & 2   &  4  & 5   &  1  &  1  & 4   &  5  &  1  &  6  &  0 \\\\\n",
       "\tP3 &  7  & 11  &  8  &  9  & 10  &  8  &  7  & 13  & 12  &  6  & ... & 6   & 14  & 5   &  5  &  7  & 8   & 14  &  8  &  8  &  7 \\\\\n",
       "\tP4 & 12  &  8  & 13  &  5  &  9  &  6  &  9  & 13  & 13  & 11  & ... & 9   & 10  & 3   &  4  &  6  & 8   & 14  &  8  &  7  &  8 \\\\\n",
       "\tP5 &  8  &  5  & 13  & 11  &  6  &  7  &  9  & 14  &  9  &  9  & ... & 7   & 11  & 7   & 12  &  6  & 6   &  5  & 11  &  8  &  9 \\\\\n",
       "\tP6 &  3  &  3  &  2  &  7  &  6  &  3  &  8  &  6  &  6  &  3  & ... & 4   &  2  & 4   &  3  &  6  & 5   &  3  &  3  & 10  &  6 \\\\\n",
       "\\end{tabular}\n"
      ],
      "text/markdown": [
       "\n",
       "| <!--/--> | W0 | W1 | W2 | W3 | W4 | W5 | W6 | W7 | W8 | W9 | ... | W42 | W43 | W44 | W45 | W46 | W47 | W48 | W49 | W50 | W51 |\n",
       "|---|---|---|---|---|---|---|---|---|---|---|---|---|---|---|---|---|---|---|---|---|---|\n",
       "| P1 | 11  | 12  | 10  |  8  | 13  | 12  | 14  | 21  |  6  | 14  | ... | 4   |  7  | 8   | 10  | 12  | 3   |  7  |  6  |  5  | 10  |\n",
       "| P2 |  7  |  6  |  3  |  2  |  7  |  1  |  6  |  3  |  3  |  3  | ... | 2   |  4  | 5   |  1  |  1  | 4   |  5  |  1  |  6  |  0  |\n",
       "| P3 |  7  | 11  |  8  |  9  | 10  |  8  |  7  | 13  | 12  |  6  | ... | 6   | 14  | 5   |  5  |  7  | 8   | 14  |  8  |  8  |  7  |\n",
       "| P4 | 12  |  8  | 13  |  5  |  9  |  6  |  9  | 13  | 13  | 11  | ... | 9   | 10  | 3   |  4  |  6  | 8   | 14  |  8  |  7  |  8  |\n",
       "| P5 |  8  |  5  | 13  | 11  |  6  |  7  |  9  | 14  |  9  |  9  | ... | 7   | 11  | 7   | 12  |  6  | 6   |  5  | 11  |  8  |  9  |\n",
       "| P6 |  3  |  3  |  2  |  7  |  6  |  3  |  8  |  6  |  6  |  3  | ... | 4   |  2  | 4   |  3  |  6  | 5   |  3  |  3  | 10  |  6  |\n",
       "\n"
      ],
      "text/plain": [
       "   W0 W1 W2 W3 W4 W5 W6 W7 W8 W9 ... W42 W43 W44 W45 W46 W47 W48 W49 W50 W51\n",
       "P1 11 12 10  8 13 12 14 21  6 14 ... 4    7  8   10  12  3    7   6   5  10 \n",
       "P2  7  6  3  2  7  1  6  3  3  3 ... 2    4  5    1   1  4    5   1   6   0 \n",
       "P3  7 11  8  9 10  8  7 13 12  6 ... 6   14  5    5   7  8   14   8   8   7 \n",
       "P4 12  8 13  5  9  6  9 13 13 11 ... 9   10  3    4   6  8   14   8   7   8 \n",
       "P5  8  5 13 11  6  7  9 14  9  9 ... 7   11  7   12   6  6    5  11   8   9 \n",
       "P6  3  3  2  7  6  3  8  6  6  3 ... 4    2  4    3   6  5    3   3  10   6 "
      ]
     },
     "metadata": {},
     "output_type": "display_data"
    }
   ],
   "source": [
    "head(DF)"
   ]
  },
  {
   "cell_type": "markdown",
   "metadata": {},
   "source": [
    "Since we only have sales transaction data, our first assumption is that we will analyze and forecast the transactions only based on the historical transactions. The amount of each transaction and other business factors are not considered.\n",
    "\n",
    "We will use the original data because all the the methods used used here will not require data normalization; moreover, the normalized data may have lower representation of the characteristics of the original data. More importantly, it is difficult to interpret the forecasting results with normalized data."
   ]
  },
  {
   "cell_type": "code",
   "execution_count": 3,
   "metadata": {},
   "outputs": [
    {
     "data": {
      "text/html": [
       "0"
      ],
      "text/latex": [
       "0"
      ],
      "text/markdown": [
       "0"
      ],
      "text/plain": [
       "[1] 0"
      ]
     },
     "metadata": {},
     "output_type": "display_data"
    }
   ],
   "source": [
    "#Check whether there is missing value.\n",
    "sum(is.na(DF))"
   ]
  },
  {
   "cell_type": "markdown",
   "metadata": {},
   "source": [
    "## 2. Product Segmentation\n",
    "Since it is hard and unreasonable to analyze data of all 800 projects, the first step is to perform product segmentation. We would like to classify the products into groups based on the similarity of transactions over 52 weeks. K-means clustering method is used for this problem. In order to determine the number of clusters, an elbow plot is created as below."
   ]
  },
  {
   "cell_type": "markdown",
   "metadata": {},
   "source": [
    "Because the number of clusters (k) must be set before we start the algorithm, it is often advantageous to use several different values of k and examine the differences in the results. We can execute the same process for 2, 3, 4, and 5 clusters, and the results are shown in the figure:"
   ]
  },
  {
   "cell_type": "code",
   "execution_count": 7,
   "metadata": {},
   "outputs": [
    {
     "name": "stderr",
     "output_type": "stream",
     "text": [
      "Warning message:\n",
      "\"package 'factoextra' was built under R version 3.6.1\"Loading required package: ggplot2\n",
      "Warning message:\n",
      "\"package 'ggplot2' was built under R version 3.6.1\"Welcome! Related Books: `Practical Guide To Cluster Analysis in R` at https://goo.gl/13EFCZ\n",
      "Warning message:\n",
      "\"package 'gridExtra' was built under R version 3.6.1\""
     ]
    },
    {
     "data": {
      "image/png": "[encoded data removed]",
      "text/plain": [
       "plot without title"
      ]
     },
     "metadata": {},
     "output_type": "display_data"
    }
   ],
   "source": [
    "library(\"factoextra\")\n",
    "\n",
    "k1 = kmeans(DF, centers = 2, nstart = 25)\n",
    "k2 <- kmeans(DF, centers = 3, nstart = 25)\n",
    "k3 <- kmeans(DF, centers = 4, nstart = 25)\n",
    "k4 <- kmeans(DF, centers = 5, nstart = 25)\n",
    "\n",
    "# plots to compare\n",
    "p1 <- fviz_cluster(k1, geom = \"point\", DF) + ggtitle(\"k = 2\")\n",
    "p2 <- fviz_cluster(k2, geom = \"point\", DF) + ggtitle(\"k = 3\")\n",
    "p3 <- fviz_cluster(k3, geom = \"point\", DF) + ggtitle(\"k = 4\")\n",
    "p4 <- fviz_cluster(k4, geom = \"point\", DF) + ggtitle(\"k = 5\")\n",
    "\n",
    "library(gridExtra)\n",
    "grid.arrange(p1, p2, p3, p4, nrow = 2)"
   ]
  },
  {
   "cell_type": "markdown",
   "metadata": {},
   "source": [
    "Although this visual assessment tells us where true dilineations occur (or do not occur such as clusters 3 & 4 in the k = 5 graph) between clusters, it does not tell us what the optimal number of clusters is.\n",
    "\n",
    "### Determining Optimal Clusters\n",
    "As you may recall the analyst specifies the number of clusters to use; preferably the analyst would like to use the optimal number of clusters. To aid the analyst, the following explains the three most popular methods for determining the optimal clusters, which includes:\n",
    "\n",
    "- Elbow method\n",
    "- Silhouette method\n",
    "- Gap statistic\n",
    "\n",
    "Recall that, the basic idea behind cluster partitioning methods, such as k-means clustering, is to define clusters such that the total intra-cluster variation (known as total within-cluster variation or total within-cluster sum of square) is minimized:"
   ]
  },
  {
   "cell_type": "code",
   "execution_count": 65,
   "metadata": {},
   "outputs": [
    {
     "name": "stdout",
     "output_type": "stream",
     "text": [
      "package 'tidyverse' successfully unpacked and MD5 sums checked\n",
      "\n",
      "The downloaded binary packages are in\n",
      "\tC:\\Users\\Sarit\\AppData\\Local\\Temp\\Rtmpq4C3YQ\\downloaded_packages\n"
     ]
    }
   ],
   "source": [
    "# The easiest way to get purrr is to install the whole tidyverse:\n",
    "install.packages(\"tidyverse\")"
   ]
  },
  {
   "cell_type": "code",
   "execution_count": 8,
   "metadata": {},
   "outputs": [
    {
     "name": "stderr",
     "output_type": "stream",
     "text": [
      "Warning message:\n",
      "\"package 'tidyverse' was built under R version 3.6.1\"Registered S3 method overwritten by 'rvest':\n",
      "  method            from\n",
      "  read_xml.response xml2\n",
      "-- Attaching packages --------------------------------------- tidyverse 1.2.1 --\n",
      "v tibble  2.1.1       v purrr   0.3.2  \n",
      "v tidyr   0.8.3       v dplyr   0.8.0.1\n",
      "v readr   1.3.1       v stringr 1.4.0  \n",
      "v tibble  2.1.1       v forcats 0.4.0  \n",
      "-- Conflicts ------------------------------------------ tidyverse_conflicts() --\n",
      "x dplyr::combine() masks gridExtra::combine()\n",
      "x dplyr::filter()  masks stats::filter()\n",
      "x dplyr::lag()     masks stats::lag()\n"
     ]
    }
   ],
   "source": [
    "library('tidyverse')"
   ]
  },
  {
   "cell_type": "markdown",
   "metadata": {},
   "source": [
    "## k-means Clustering- elbow method"
   ]
  },
  {
   "cell_type": "code",
   "execution_count": 76,
   "metadata": {},
   "outputs": [
    {
     "data": {
      "image/png": "[encoded data removed]",
      "text/plain": [
       "Plot with title \"Elbow Plot of K-Means Clustering\""
      ]
     },
     "metadata": {},
     "output_type": "display_data"
    }
   ],
   "source": [
    "library('tidyverse')\n",
    "set.seed(101)\n",
    "\n",
    "# function to compute total within-cluster sum of square \n",
    "wss = function(k) {kmeans(DF, k, nstart = 10 )$tot.withinss}\n",
    "\n",
    "# Compute and plot wss for k = 1 to k = 15\n",
    "k.values = 1:15\n",
    "\n",
    "# extract wss for 2-15 clusters\n",
    "wss_values = map_dbl(k.values, wss)\n",
    "\n",
    "plot(k.values, wss_values,\n",
    "       type=\"b\", pch = 19, frame = FALSE,\n",
    "       main = \"Elbow Plot of K-Means Clustering\",\n",
    "       xlab=\"Number of clusters K\",\n",
    "       ylab=\"Total within-clusters sum of squares\")"
   ]
  },
  {
   "cell_type": "markdown",
   "metadata": {},
   "source": [
    "According to the elbow plot above, the elbow point is 3. \n",
    "\n",
    "K-means clustering is a very simple and fast algorithm. Furthermore, it can efficiently deal with very large data sets. However, there are some weaknesses of the k-means approach.\n",
    "\n",
    "One potential disadvantage of K-means clustering is that it requires us to pre-specify the number of clusters. Hierarchical clustering is an alternative approach which does not require that we commit to a particular choice of clusters. Hierarchical clustering has an added advantage over K-means clustering in that it results in an attractive tree-based representation of the observations, called a dendrogram. A future tutorial will illustrate the hierarchical clustering approach.\n",
    "\n",
    "An additional disadvantage of K-means is that it’s sensitive to outliers and different results can occur if you change the ordering of your data. The Partitioning Around Medoids (PAM) clustering approach is less sensititive to outliers and provides a robust alternative to k-means to deal with these situations. A future tutorial will illustrate the PAM clustering approach."
   ]
  },
  {
   "cell_type": "code",
   "execution_count": 73,
   "metadata": {},
   "outputs": [],
   "source": [
    "library('cluster')"
   ]
  },
  {
   "cell_type": "code",
   "execution_count": 74,
   "metadata": {},
   "outputs": [
    {
     "data": {
      "image/png": "[encoded data removed]",
      "text/plain": [
       "plot without title"
      ]
     },
     "metadata": {},
     "output_type": "display_data"
    }
   ],
   "source": [
    "silhouette_score = function(k){\n",
    "  km = kmeans(DF, centers = k, nstart=25)\n",
    "  ss = silhouette(km$cluster, dist(DF))\n",
    "  mean(ss[, 3])}\n",
    "k = 2:10\n",
    "avg_sil = sapply(k,silhouette_score )\n",
    "plot(k, type = 'b', avg_sil, xlab = 'number of clusters', ylab ='average silhouette scores', frame = 'False')"
   ]
  },
  {
   "cell_type": "code",
   "execution_count": 12,
   "metadata": {},
   "outputs": [
    {
     "name": "stderr",
     "output_type": "stream",
     "text": [
      "Warning message:\n",
      "\"package 'factoextra' was built under R version 3.6.1\"Loading required package: ggplot2\n",
      "Warning message:\n",
      "\"package 'ggplot2' was built under R version 3.6.1\"Welcome! Related Books: `Practical Guide To Cluster Analysis in R` at https://goo.gl/13EFCZ\n"
     ]
    },
    {
     "data": {
      "image/png": "[encoded data removed]",
      "text/plain": [
       "plot without title"
      ]
     },
     "metadata": {},
     "output_type": "display_data"
    }
   ],
   "source": [
    "library(\"factoextra\")\n",
    "fviz_nbclust(DF, kmeans,\n",
    "             method = \"gap_stat\")"
   ]
  },
  {
   "cell_type": "code",
   "execution_count": 13,
   "metadata": {},
   "outputs": [
    {
     "data": {
      "image/png": "[encoded data removed]",
      "text/plain": [
       "plot without title"
      ]
     },
     "metadata": {},
     "output_type": "display_data"
    }
   ],
   "source": [
    "set.seed(101)\n",
    "fviz_nbclust(DF, kmeans, method = \"wss\")"
   ]
  },
  {
   "cell_type": "markdown",
   "metadata": {},
   "source": [
    "## Hierarchical clustering\n",
    "Hierarchical clustering is an alternative approach which does not require that we commit to a particular choice of clusters. Hierarchical clustering has an added advantage over K-means clustering in that it results in an attractive tree-based representation of the observations, called a dendrogram."
   ]
  },
  {
   "cell_type": "code",
   "execution_count": 16,
   "metadata": {},
   "outputs": [],
   "source": [
    "# Dissimilarity matrix\n",
    "#d <- dist(DF, method = \"euclidean\")\n",
    "\n",
    "# Hierarchical clustering using Complete Linkage\n",
    "#hc = hcut(DF, hc_method = \"complete\")\n",
    "\n",
    "# Visualize dendrogram\n",
    "#fviz_dend(hc, show_labels = FALSE, rect = TRUE, cex = 0.6, hang = -1)\n",
    "\n",
    "# Visualize cluster\n",
    "#fviz_cluster(hc, ellipse.type = \"convex\")"
   ]
  },
  {
   "cell_type": "code",
   "execution_count": 3,
   "metadata": {},
   "outputs": [
    {
     "data": {
      "text/plain": [
       "K-means clustering with 3 clusters of sizes 197, 124, 490\n",
       "\n",
       "Cluster means:\n",
       "         W0        W1        W2        W3        W4        W5        W6\n",
       "1 11.934010 11.725888 11.883249 12.020305 12.355330 12.497462 12.233503\n",
       "2 33.709677 35.193548 36.741935 38.370968 36.709677 35.943548 37.741935\n",
       "3  1.406122  1.489796  1.465306  1.540816  1.589796  1.546939  1.618367\n",
       "         W7        W8        W9       W10       W11      W12       W13\n",
       "1 12.086294 12.548223 12.370558 12.365482 12.974619 12.51777 12.263959\n",
       "2 36.814516 38.016129 37.322581 38.274194 36.435484 37.87097 37.419355\n",
       "3  1.689796  1.528571  1.606122  1.546939  1.581633  1.64898  1.632653\n",
       "        W14      W15       W16       W17       W18       W19       W20\n",
       "1 12.446701 12.82234 12.908629 13.065990 12.675127 12.614213 12.751269\n",
       "2 38.024194 38.80645 38.967742 37.346774 38.282258 36.645161 37.758065\n",
       "3  1.771429  1.65102  1.555102  1.689796  1.779592  1.618367  1.620408\n",
       "        W21       W22       W23       W24       W25       W26       W27\n",
       "1 12.837563 13.370558 13.436548 15.385787 14.390863  8.715736  9.137056\n",
       "2 36.040323 36.322581 35.040323 33.000000 25.806452 26.435484 27.362903\n",
       "3  1.789796  1.822449  2.053061  2.289796  2.402041  1.310204  1.308163\n",
       "        W28       W29      W30       W31       W32       W33       W34\n",
       "1  9.030457  8.974619  9.35533  9.517766  9.664975  9.715736 10.142132\n",
       "2 28.782258 28.508065 29.66129 28.959677 30.177419 30.443548 30.443548\n",
       "3  1.306122  1.324490  1.32449  1.440816  1.320408  1.475510  1.446939\n",
       "        W35       W36       W37       W38       W39       W40       W41\n",
       "1 10.213198  9.695431 10.228426 10.137056  9.802030  9.898477 10.253807\n",
       "2 30.290323 30.790323 30.580645 31.806452 30.467742 31.362903 31.411290\n",
       "3  1.465306  1.575510  1.512245  1.532653  1.532653  1.626531  1.567347\n",
       "        W42       W43       W44       W45       W46       W47       W48\n",
       "1 10.192893 10.294416 10.477157 10.426396 10.573604 10.994924 11.309645\n",
       "2 32.096774 31.733871 31.782258 32.500000 33.008065 32.354839 31.508065\n",
       "3  1.673469  1.597959  1.704082  1.744898  1.828571  1.742857  1.836735\n",
       "       W49       W50      W51\n",
       "1 11.83756 12.939086 14.28426\n",
       "2 30.87903 28.443548 24.18548\n",
       "3  2.14898  2.267347  2.84898\n",
       "\n",
       "Clustering vector:\n",
       "  P1   P2   P3   P4   P5   P6   P7   P8   P9  P10  P11  P12  P13  P14  P15  P16 \n",
       "   1    3    1    1    1    3    3    1    1    1    1    3    1    1    2    2 \n",
       " P17  P18  P19  P20  P21  P22  P23  P24  P25  P26  P27  P28  P29  P30  P31  P32 \n",
       "   2    2    2    1    1    1    3    2    2    1    2    2    1    2    1    1 \n",
       " P33  P34  P35  P36  P37  P38  P39  P40  P41  P42  P43  P44  P45  P46  P47  P48 \n",
       "   1    2    2    2    2    2    2    2    2    2    2    2    2    2    2    2 \n",
       " P49  P50  P51  P52  P53  P54  P55  P56  P57  P58  P59  P60  P61  P62  P63  P64 \n",
       "   2    1    1    2    3    2    2    2    2    2    1    2    2    1    2    2 \n",
       " P65  P66  P67  P68  P69  P70  P71  P72  P73  P74  P75  P76  P77  P78  P79  P80 \n",
       "   1    2    2    1    2    2    1    2    2    1    2    2    3    2    2    2 \n",
       " P81  P82  P83  P84  P85  P86  P87  P88  P89  P90  P91  P92  P93  P94  P95  P96 \n",
       "   1    1    2    2    2    2    2    2    2    2    1    2    1    1    1    2 \n",
       " P97  P98  P99 P100 P101 P102 P103 P104 P105 P106 P107 P108 P109 P110 P111 P112 \n",
       "   2    3    1    1    2    2    1    3    3    1    1    3    1    1    3    2 \n",
       "P113 P114 P115 P116 P117 P118 P119 P120 P121 P122 P123 P124 P125 P126 P127 P128 \n",
       "   2    1    1    1    3    1    2    2    1    1    3    3    1    3    3    2 \n",
       "P129 P130 P131 P132 P133 P134 P135 P136 P137 P138 P139 P140 P141 P142 P143 P144 \n",
       "   2    2    2    2    2    2    2    2    2    2    2    2    2    2    2    1 \n",
       "P145 P146 P147 P148 P149 P150 P151 P152 P153 P154 P155 P156 P157 P158 P159 P160 \n",
       "   1    1    1    3    1    3    3    1    1    1    3    3    1    3    3    1 \n",
       "P161 P162 P163 P164 P165 P166 P167 P168 P169 P170 P171 P172 P173 P174 P175 P176 \n",
       "   3    1    3    1    1    1    2    2    2    2    1    2    2    2    2    2 \n",
       "P177 P178 P179 P180 P181 P182 P183 P184 P185 P186 P187 P188 P189 P190 P191 P192 \n",
       "   2    2    2    2    2    2    2    2    2    2    2    2    2    2    2    2 \n",
       "P193 P194 P195 P196 P197 P198 P199 P200 P201 P202 P203 P204 P205 P206 P207 P208 \n",
       "   2    2    3    2    1    1    3    1    3    1    3    3    1    3    3    2 \n",
       "P209 P210 P211 P212 P213 P214 P215 P216 P217 P218 P219 P220 P221 P222 P223 P224 \n",
       "   1    1    1    3    3    3    3    3    3    3    3    3    3    3    3    3 \n",
       "P225 P226 P227 P228 P229 P230 P231 P232 P233 P234 P235 P236 P237 P238 P239 P240 \n",
       "   3    3    3    3    3    3    3    3    3    3    3    3    3    3    3    3 \n",
       "P241 P242 P243 P244 P245 P246 P247 P248 P249 P250 P251 P252 P253 P254 P255 P256 \n",
       "   3    3    3    3    3    3    3    3    3    3    3    3    3    3    3    3 \n",
       "P257 P258 P259 P260 P261 P262 P263 P264 P265 P266 P267 P268 P269 P270 P271 P272 \n",
       "   3    3    3    3    1    2    1    1    3    1    1    1    1    1    3    3 \n",
       "P273 P274 P275 P276 P277 P278 P279 P280 P281 P282 P283 P284 P285 P286 P287 P288 \n",
       "   3    3    3    3    3    3    3    3    3    3    3    1    1    1    3    3 \n",
       "P289 P290 P291 P292 P293 P294 P295 P296 P297 P298 P299 P300 P301 P302 P303 P304 \n",
       "   3    3    3    3    3    1    3    3    3    3    1    3    3    3    3    1 \n",
       "P305 P306 P307 P308 P309 P310 P311 P312 P313 P314 P315 P316 P317 P318 P319 P320 \n",
       "   3    3    3    3    1    3    3    3    3    1    3    3    3    3    1    3 \n",
       "P321 P322 P323 P324 P325 P326 P327 P328 P329 P330 P331 P332 P333 P334 P335 P336 \n",
       "   3    3    3    1    3    3    3    3    3    3    3    1    1    1    3    3 \n",
       "P337 P338 P339 P340 P341 P342 P343 P344 P345 P346 P347 P348 P349 P350 P351 P352 \n",
       "   3    3    3    3    3    3    3    3    3    3    3    3    3    3    3    3 \n",
       "P354 P355 P356 P357 P358 P359 P360 P361 P362 P363 P364 P365 P366 P367 P368 P369 \n",
       "   3    3    3    3    3    3    3    3    3    3    1    3    3    3    3    3 \n",
       "P370 P371 P372 P373 P374 P375 P376 P377 P378 P379 P380 P381 P382 P383 P384 P386 \n",
       "   3    3    3    3    3    3    3    3    3    3    3    3    3    3    3    3 \n",
       "P387 P388 P389 P390 P391 P392 P393 P394 P395 P396 P397 P398 P399 P400 P401 P402 \n",
       "   3    3    3    3    3    3    3    3    3    3    1    1    1    1    3    3 \n",
       "P403 P404 P405 P406 P407 P408 P409 P410 P411 P412 P413 P414 P415 P416 P417 P418 \n",
       "   1    1    1    1    1    1    2    1    1    3    1    3    3    3    3    3 \n",
       "P419 P420 P421 P422 P423 P424 P425 P426 P427 P428 P429 P430 P431 P432 P433 P434 \n",
       "   3    3    3    3    3    3    3    3    3    3    1    1    3    1    3    3 \n",
       "P435 P436 P437 P438 P439 P440 P441 P442 P443 P444 P445 P446 P447 P448 P449 P450 \n",
       "   1    1    3    3    3    3    3    3    3    3    3    3    3    3    3    3 \n",
       "P451 P452 P453 P454 P455 P456 P457 P458 P459 P460 P461 P462 P463 P464 P465 P466 \n",
       "   3    3    3    3    3    3    3    3    3    3    3    3    3    3    3    3 \n",
       "P467 P468 P469 P470 P471 P472 P473 P474 P475 P476 P477 P478 P479 P480 P481 P482 \n",
       "   3    3    3    3    3    3    3    3    3    3    3    3    3    3    3    3 \n",
       "P483 P484 P485 P486 P487 P488 P489 P490 P491 P492 P493 P494 P495 P496 P497 P498 \n",
       "   3    3    1    1    1    1    3    1    1    1    1    1    1    1    3    3 \n",
       "P499 P500 P501 P502 P503 P504 P505 P506 P507 P508 P509 P510 P511 P512 P513 P514 \n",
       "   1    3    3    1    1    1    1    1    1    1    3    1    2    1    1    1 \n",
       "P515 P516 P517 P518 P519 P520 P521 P522 P523 P524 P525 P526 P527 P528 P529 P530 \n",
       "   1    1    1    1    1    1    1    1    1    1    1    1    1    1    1    1 \n",
       "P531 P532 P533 P534 P535 P536 P537 P538 P539 P540 P541 P542 P543 P544 P545 P546 \n",
       "   3    1    2    1    1    1    1    1    1    1    1    1    1    1    1    1 \n",
       "P547 P548 P549 P550 P551 P552 P553 P554 P555 P556 P557 P558 P559 P560 P561 P562 \n",
       "   1    2    2    1    1    1    3    1    1    1    2    1    1    1    3    3 \n",
       "P563 P564 P565 P566 P567 P568 P569 P570 P571 P572 P573 P574 P575 P576 P577 P578 \n",
       "   1    1    1    1    3    3    3    3    3    3    3    3    3    3    3    3 \n",
       "P579 P580 P581 P582 P583 P584 P585 P586 P587 P588 P589 P590 P591 P592 P593 P594 \n",
       "   3    3    3    3    3    3    3    3    3    3    3    3    3    3    3    3 \n",
       "P595 P596 P597 P598 P599 P600 P601 P602 P603 P604 P605 P606 P607 P608 P609 P610 \n",
       "   3    3    3    1    3    3    3    3    3    3    3    3    3    3    3    3 \n",
       "P611 P612 P613 P614 P615 P616 P617 P618 P619 P620 P621 P622 P623 P624 P625 P626 \n",
       "   3    1    1    3    2    3    2    2    2    2    2    2    2    1    1    1 \n",
       "P627 P628 P629 P630 P631 P632 P633 P634 P635 P636 P637 P638 P639 P640 P641 P642 \n",
       "   1    1    1    1    1    1    1    1    1    1    3    1    3    1    3    3 \n",
       "P643 P644 P646 P647 P649 P650 P651 P652 P653 P654 P655 P656 P657 P658 P659 P660 \n",
       "   3    3    3    3    3    3    3    3    3    3    3    3    3    3    3    3 \n",
       "P661 P662 P663 P664 P665 P666 P667 P668 P669 P670 P671 P672 P673 P674 P675 P676 \n",
       "   3    3    3    3    3    3    3    3    3    3    3    3    3    1    3    3 \n",
       "P677 P678 P679 P680 P681 P682 P683 P684 P685 P686 P687 P688 P689 P690 P691 P692 \n",
       "   3    3    3    3    3    3    3    3    3    3    3    3    3    3    3    3 \n",
       "P693 P694 P695 P696 P697 P698 P699 P700 P701 P702 P703 P704 P705 P706 P707 P708 \n",
       "   3    3    3    3    3    3    3    3    3    3    3    3    3    3    3    3 \n",
       "P711 P712 P713 P714 P715 P716 P717 P718 P719 P720 P721 P722 P724 P726 P727 P728 \n",
       "   3    3    3    3    3    3    3    3    3    3    3    3    3    3    3    3 \n",
       "P729 P730 P731 P732 P733 P734 P735 P736 P737 P738 P739 P740 P741 P742 P743 P744 \n",
       "   3    3    3    3    3    3    3    3    3    3    3    3    3    3    3    3 \n",
       "P745 P746 P747 P748 P749 P750 P751 P752 P753 P754 P755 P756 P757 P758 P759 P760 \n",
       "   3    3    3    3    3    3    3    3    3    3    3    3    3    3    3    3 \n",
       "P761 P762 P763 P764 P765 P766 P767 P768 P769 P770 P771 P772 P773 P774 P775 P776 \n",
       "   3    3    3    3    3    3    3    3    3    3    3    3    3    3    3    3 \n",
       "P777 P778 P779 P780 P781 P782 P783 P784 P785 P786 P787 P788 P789 P790 P791 P792 \n",
       "   3    3    3    3    1    3    1    3    3    3    3    3    3    3    3    3 \n",
       "P793 P794 P795 P796 P797 P798 P799 P800 P801 P802 P803 P804 P805 P806 P807 P808 \n",
       "   3    3    3    3    3    3    3    3    3    3    3    3    3    3    3    3 \n",
       "P809 P810 P811 P812 P813 P814 P815 P816 P817 P818 P819 \n",
       "   3    3    3    3    3    3    3    3    3    3    3 \n",
       "Levels: 1 2 3\n",
       "\n",
       "Within cluster sum of squares by cluster:\n",
       "[1] 258165.1 303977.5 124394.7\n",
       " (between_SS / total_SS =  88.6 %)\n",
       "\n",
       "Available components:\n",
       "\n",
       "[1] \"cluster\"      \"centers\"      \"totss\"        \"withinss\"     \"tot.withinss\"\n",
       "[6] \"betweenss\"    \"size\"         \"iter\"         \"ifault\"      "
      ]
     },
     "metadata": {},
     "output_type": "display_data"
    },
    {
     "ename": "ERROR",
     "evalue": "Error in ggplot(DF, aes(W1, W44, color = cluster_3$cluster)): could not find function \"ggplot\"\n",
     "output_type": "error",
     "traceback": [
      "Error in ggplot(DF, aes(W1, W44, color = cluster_3$cluster)): could not find function \"ggplot\"\nTraceback:\n"
     ]
    }
   ],
   "source": [
    "#applying kmeans with 3 clusters as per findings from Elbow method\n",
    "\n",
    "cluster_3 <- kmeans(DF,centers = 3,nstart = 10)\n",
    "cluster_3$cluster <- as.factor(cluster_3$cluster)\n",
    "cluster_3\n",
    "\n",
    "#plotting pattern of weeks as per clustering from kmeans columns\n",
    "\n",
    "ggplot(DF, aes(W1,W44,color =cluster_3$cluster)) +geom_point()"
   ]
  },
  {
   "cell_type": "markdown",
   "metadata": {},
   "source": [
    "There are 124, 197 and 490 products in each group, respectively. The cluster plot shows that a clearly separated three clusters, and the between_SS / total_SS = 88.6 % suggests this clustering model is a good fit for the data.\n",
    "\n",
    "Specifically, there are 490 products classified into group 1."
   ]
  },
  {
   "cell_type": "code",
   "execution_count": 77,
   "metadata": {},
   "outputs": [
    {
     "name": "stdout",
     "output_type": "stream",
     "text": [
      "List of 9\n",
      " $ cluster     : Factor w/ 3 levels \"1\",\"2\",\"3\": 2 3 2 2 2 3 3 2 2 2 ...\n",
      "  ..- attr(*, \"names\")= chr [1:811] \"P1\" \"P2\" \"P3\" \"P4\" ...\n",
      " $ centers     : num [1:3, 1:52] 33.71 11.93 1.41 35.19 11.73 ...\n",
      "  ..- attr(*, \"dimnames\")=List of 2\n",
      "  .. ..$ : chr [1:3] \"1\" \"2\" \"3\"\n",
      "  .. ..$ : chr [1:52] \"W0\" \"W1\" \"W2\" \"W3\" ...\n",
      " $ totss       : num 6038444\n",
      " $ withinss    : num [1:3] 303978 258165 124395\n",
      " $ tot.withinss: num 686537\n",
      " $ betweenss   : num 5351907\n",
      " $ size        : int [1:3] 124 197 490\n",
      " $ iter        : int 2\n",
      " $ ifault      : int 0\n",
      " - attr(*, \"class\")= chr \"kmeans\"\n"
     ]
    }
   ],
   "source": [
    "str(cluster_3)"
   ]
  },
  {
   "cell_type": "code",
   "execution_count": 75,
   "metadata": {},
   "outputs": [
    {
     "name": "stderr",
     "output_type": "stream",
     "text": [
      "Warning message:\n",
      "\"did not converge in 10 iterations\"Warning message:\n",
      "\"did not converge in 10 iterations\"Warning message:\n",
      "\"did not converge in 10 iterations\""
     ]
    },
    {
     "name": "stdout",
     "output_type": "stream",
     "text": [
      "Clustering Gap statistic [\"clusGap\"] from call:\n",
      "clusGap(x = DF, FUNcluster = kmeans, K.max = 10, B = 50, nstart = 25)\n",
      "B=50 simulated reference sets, k = 1..10; spaceH0=\"scaledPCA\"\n",
      " --> Number of clusters (method 'firstmax'): 6\n",
      "          logW    E.logW       gap      SE.sim\n",
      " [1,] 9.814482 10.344497 0.5300142 0.008752071\n",
      " [2,] 9.200302 10.080894 0.8805921 0.004396549\n",
      " [3,] 8.836494 10.004025 1.1675311 0.004099319\n",
      " [4,] 8.762204  9.971480 1.2092758 0.003344984\n",
      " [5,] 8.633580  9.954719 1.3211382 0.003464571\n",
      " [6,] 8.620034  9.941648 1.3216146 0.003352475\n",
      " [7,] 8.610317  9.929663 1.3193456 0.003212786\n",
      " [8,] 8.598146  9.918945 1.3207988 0.003112619\n",
      " [9,] 8.589143  9.909742 1.3205986 0.003029693\n",
      "[10,] 8.572341  9.901985 1.3296441 0.002948940\n"
     ]
    },
    {
     "data": {
      "image/png": "[encoded data removed]",
      "text/plain": [
       "plot without title"
      ]
     },
     "metadata": {},
     "output_type": "display_data"
    }
   ],
   "source": [
    "# compute gap statistic\n",
    "set.seed(101)\n",
    "gap_stat <- clusGap(DF, FUN = kmeans, nstart = 25,\n",
    "                    K.max = 10, B = 50)\n",
    "# Print the result\n",
    "print(gap_stat, method = \"firstmax\")\n",
    "\n",
    "fviz_gap_stat(gap_stat)"
   ]
  },
  {
   "cell_type": "code",
   "execution_count": 396,
   "metadata": {},
   "outputs": [],
   "source": [
    "# Compute k-means clustering with k = 3\n",
    "#set.seed(123)\n",
    "#final <- kmeans(DF, 4, nstart = 25)\n",
    "#print(final)"
   ]
  },
  {
   "cell_type": "code",
   "execution_count": 21,
   "metadata": {},
   "outputs": [
    {
     "name": "stderr",
     "output_type": "stream",
     "text": [
      "Warning message:\n",
      "\"package 'factoextra' was built under R version 3.6.1\"Loading required package: ggplot2\n",
      "Warning message:\n",
      "\"package 'ggplot2' was built under R version 3.6.1\"Welcome! Related Books: `Practical Guide To Cluster Analysis in R` at https://goo.gl/13EFCZ\n"
     ]
    }
   ],
   "source": [
    "library(cluster)\n",
    "library(factoextra)"
   ]
  },
  {
   "cell_type": "code",
   "execution_count": 6,
   "metadata": {},
   "outputs": [
    {
     "data": {
      "text/plain": [
       "   Min. 1st Qu.  Median    Mean 3rd Qu.    Max. \n",
       "0.01923 0.19712 0.73077 1.66150 3.25000 6.23077 "
      ]
     },
     "metadata": {},
     "output_type": "display_data"
    },
    {
     "data": {
      "image/png": "[encoded data removed]",
      "text/plain": [
       "Plot with title \"Histogram of Product Group 1\""
      ]
     },
     "metadata": {},
     "output_type": "display_data"
    }
   ],
   "source": [
    "group1 = data.frame(t(DF[cluster_3$cluster == 3,]))\n",
    "summary(sapply(group1, mean))\n",
    "\n",
    "hist(sapply(group1, mean), main = \"Histogram of Product Group 1\", xlab = \"Number of Transactions\")"
   ]
  },
  {
   "cell_type": "markdown",
   "metadata": {},
   "source": [
    "The average weekly transaction is 1.66. As shown in the histogram, there are lots of products whose weekly transactions are less than 1. While the transactions of other products seem to follow a normal distribution. \n",
    "\n",
    "Thus, we decide to separate the initial group 1 into two parts: \n",
    "- group 0 with average weekly transactions smaller than 2, and \n",
    "- a new group 1 containing the rest products."
   ]
  },
  {
   "cell_type": "code",
   "execution_count": 4,
   "metadata": {},
   "outputs": [],
   "source": [
    "#set.seed(101)\n",
    "\n",
    "#cluster_3$size\n",
    "#cluster_3$betweenss/cluster_3$totss"
   ]
  },
  {
   "cell_type": "code",
   "execution_count": 8,
   "metadata": {},
   "outputs": [],
   "source": [
    "library('scales')"
   ]
  },
  {
   "cell_type": "code",
   "execution_count": 15,
   "metadata": {},
   "outputs": [
    {
     "data": {
      "image/png": "[encoded data removed]",
      "text/plain": [
       "Plot with title \"Pie Chart of Product Segmentation\""
      ]
     },
     "metadata": {},
     "output_type": "display_data"
    }
   ],
   "source": [
    "group0 <- group1[,sapply(group1, mean) <= 2]\n",
    "group1 <- group1[,sapply(group1, mean) > 2]\n",
    "\n",
    "group2 <- data.frame(t(DF[cluster_3$cluster == 1,]))\n",
    "group3 <- data.frame(t(DF[cluster_3$cluster == 2,]))\n",
    "\n",
    "#Create pie chart\n",
    "slices <- c(ncol(group0), ncol(group1), ncol(group2), ncol(group3))\n",
    "lbls <- c(\"Group 0:\", \"Group 1:\", \"Group 2:\", \"Group 3:\")\n",
    "lbls <- paste(lbls, percent(slices/sum(slices)))\n",
    "pie(slices,labels = lbls, col=rainbow(length(lbls)),\n",
    "   main=\"Pie Chart of Product Segmentation\")"
   ]
  },
  {
   "cell_type": "markdown",
   "metadata": {},
   "source": [
    "We can see that, \n",
    "- 37.2% products belong to Group 0, \n",
    "- 23.2% to Group 1, \n",
    "- 15.3% to Group 2, and \n",
    "- 24.3% to Group 3."
   ]
  },
  {
   "cell_type": "code",
   "execution_count": 16,
   "metadata": {},
   "outputs": [
    {
     "data": {
      "image/png": "[encoded data removed]",
      "text/plain": [
       "Plot with title \"Box-Plot of Product Segmentation\""
      ]
     },
     "metadata": {},
     "output_type": "display_data"
    }
   ],
   "source": [
    "#Create box plot\n",
    "group0_mean <- sapply(group0, mean)\n",
    "group1_mean <- sapply(group1, mean)\n",
    "group2_mean <- sapply(group2, mean)\n",
    "group3_mean <- sapply(group3, mean)\n",
    "boxplot(group0_mean, group1_mean, group2_mean, group3_mean, main = \"Box-Plot of Product Segmentation\", \n",
    "        names = c(\"Group 0\", \"Group 1\", \"Group 2\", \"Group 3\"))"
   ]
  },
  {
   "cell_type": "code",
   "execution_count": 17,
   "metadata": {},
   "outputs": [
    {
     "data": {
      "text/plain": [
       "[[1]]\n",
       "   Min. 1st Qu.  Median    Mean 3rd Qu.    Max. \n",
       "0.01923 0.11538 0.25000 0.40525 0.51442 1.98077 \n",
       "\n",
       "[[2]]\n",
       "   Min. 1st Qu.  Median    Mean 3rd Qu.    Max. \n",
       "  2.096   2.942   3.712   3.680   4.231   6.231 \n",
       "\n",
       "[[3]]\n",
       "   Min. 1st Qu.  Median    Mean 3rd Qu.    Max. \n",
       "  24.10   32.17   33.04   33.36   34.97   42.69 \n",
       "\n",
       "[[4]]\n",
       "   Min. 1st Qu.  Median    Mean 3rd Qu.    Max. \n",
       "  7.288   9.077   9.904  11.506  12.558  22.173 \n"
      ]
     },
     "metadata": {},
     "output_type": "display_data"
    }
   ],
   "source": [
    "lapply(list(group0_mean, group1_mean, group2_mean, group3_mean), summary)\n"
   ]
  },
  {
   "cell_type": "markdown",
   "metadata": {},
   "source": [
    "According to the summary results, it reveals that products are clustered into four separately groups. \n",
    "- Group 0 has the lowest number of weekly transactions; and \n",
    "- Group 2 has the largest number of transactions.\n",
    "## 3. Analysis and Forecast\n",
    "### 3.1 Gruop 0\n",
    "#### 3.1.1 Group 0 - Data Analysis"
   ]
  },
  {
   "cell_type": "code",
   "execution_count": 18,
   "metadata": {},
   "outputs": [
    {
     "data": {
      "text/plain": [
       "   Min. 1st Qu.  Median    Mean 3rd Qu.    Max. \n",
       "0.01923 0.11538 0.25000 0.40525 0.51442 1.98077 "
      ]
     },
     "metadata": {},
     "output_type": "display_data"
    }
   ],
   "source": [
    "summary(group0_mean)"
   ]
  },
  {
   "cell_type": "code",
   "execution_count": 19,
   "metadata": {},
   "outputs": [
    {
     "data": {
      "image/png": "[encoded data removed]",
      "text/plain": [
       "Plot with title \"Box-plot of Group 0\""
      ]
     },
     "metadata": {},
     "output_type": "display_data"
    }
   ],
   "source": [
    "par(mfrow = c(1, 2))\n",
    "hist(group0_mean, main = \"Histogram of Group 0\", xlab = \"Number of Transactions\")\n",
    "boxplot(group0_mean, main = \"Box-plot of Group 0\", names = c(\"Group0\"))"
   ]
  },
  {
   "cell_type": "markdown",
   "metadata": {},
   "source": [
    "According to the histogram, the distribution of the average weekly transactions of Group 0 is right skewed. More over, the box plot shows that the third quartile is around 0.5, which means that the majority products in this group have less than 1 transactions per week. Even though there are some products who have weekly transactions larger than 1. Those products are considered as outliers in the box plot. In other words, those products are a very small proportion of all products. Therefore, we can conclude that the products in Group 0 have very low demand.\n",
    "\n",
    "For further analysis, we would like to select a representative product, whose average weekly transaction is mostly close to a target value (i.e., median or mean). In this case, since the distribution is right skewed, we select the median as our target value. The representative product of this group is the product whose number of transactions is minimally different from the median."
   ]
  },
  {
   "cell_type": "code",
   "execution_count": 20,
   "metadata": {},
   "outputs": [
    {
     "name": "stdout",
     "output_type": "stream",
     "text": [
      "P214 \n",
      "   3 \n"
     ]
    }
   ],
   "source": [
    "idx0 <- which.min(abs(group0_mean-summary(group0_mean)['Median']))\n",
    "print(idx0)"
   ]
  },
  {
   "cell_type": "markdown",
   "metadata": {},
   "source": [
    "The representative product of Group 0 is P214.\n",
    "### 3.1.2 Group 0 - Forecast"
   ]
  },
  {
   "cell_type": "code",
   "execution_count": 313,
   "metadata": {},
   "outputs": [
    {
     "data": {
      "text/html": [
       "<table>\n",
       "<thead><tr><th></th><th scope=col>W0</th><th scope=col>W1</th><th scope=col>W2</th><th scope=col>W3</th><th scope=col>W4</th><th scope=col>W5</th><th scope=col>W6</th><th scope=col>W7</th><th scope=col>W8</th><th scope=col>W9</th><th scope=col>...</th><th scope=col>W42</th><th scope=col>W43</th><th scope=col>W44</th><th scope=col>W45</th><th scope=col>W46</th><th scope=col>W47</th><th scope=col>W48</th><th scope=col>W49</th><th scope=col>W50</th><th scope=col>W51</th></tr></thead>\n",
       "<tbody>\n",
       "\t<tr><th scope=row>P215</th><td>0  </td><td>0  </td><td>0  </td><td>0  </td><td>0  </td><td>0  </td><td>0  </td><td>0  </td><td>0  </td><td>0  </td><td>...</td><td>0  </td><td>0  </td><td>0  </td><td>0  </td><td>0  </td><td>0  </td><td>0  </td><td>0  </td><td>0  </td><td>0  </td></tr>\n",
       "</tbody>\n",
       "</table>\n"
      ],
      "text/latex": [
       "\\begin{tabular}{r|llllllllllllllllllllllllllllllllllllllllllllllllllll}\n",
       "  & W0 & W1 & W2 & W3 & W4 & W5 & W6 & W7 & W8 & W9 & ... & W42 & W43 & W44 & W45 & W46 & W47 & W48 & W49 & W50 & W51\\\\\n",
       "\\hline\n",
       "\tP215 & 0   & 0   & 0   & 0   & 0   & 0   & 0   & 0   & 0   & 0   & ... & 0   & 0   & 0   & 0   & 0   & 0   & 0   & 0   & 0   & 0  \\\\\n",
       "\\end{tabular}\n"
      ],
      "text/markdown": [
       "\n",
       "| <!--/--> | W0 | W1 | W2 | W3 | W4 | W5 | W6 | W7 | W8 | W9 | ... | W42 | W43 | W44 | W45 | W46 | W47 | W48 | W49 | W50 | W51 |\n",
       "|---|---|---|---|---|---|---|---|---|---|---|---|---|---|---|---|---|---|---|---|---|---|\n",
       "| P215 | 0   | 0   | 0   | 0   | 0   | 0   | 0   | 0   | 0   | 0   | ... | 0   | 0   | 0   | 0   | 0   | 0   | 0   | 0   | 0   | 0   |\n",
       "\n"
      ],
      "text/plain": [
       "     W0 W1 W2 W3 W4 W5 W6 W7 W8 W9 ... W42 W43 W44 W45 W46 W47 W48 W49 W50 W51\n",
       "P215 0  0  0  0  0  0  0  0  0  0  ... 0   0   0   0   0   0   0   0   0   0  "
      ]
     },
     "metadata": {},
     "output_type": "display_data"
    }
   ],
   "source": [
    "# First row and all columns\n",
    "DF[215,]"
   ]
  },
  {
   "cell_type": "code",
   "execution_count": 21,
   "metadata": {},
   "outputs": [
    {
     "data": {
      "image/png": "[encoded data removed]",
      "text/plain": [
       "plot without title"
      ]
     },
     "metadata": {},
     "output_type": "display_data"
    }
   ],
   "source": [
    "#Convert P215 data to time series\n",
    "ts0 <- ts(group0[,idx0], frequency = 365.25/7)\n",
    "plot(ts0) "
   ]
  },
  {
   "cell_type": "markdown",
   "metadata": {},
   "source": [
    "According to the time plot, most of time P214 has zero transactions, some 1 transaction, and one 4 transactions per week. Most of products in this group will have similar plots.\n",
    "### 3.1.3 Summary\n",
    "Given a time series like P214 data, it is unnecessary to perform further decomposition or develop a forecasting model. If we would like to predict what happens in the next year, the most appropriate way is to copy the current data. In other words, we assume the transactions will be same as the previous year for a certain product in Group 0.\n",
    "\n",
    "For business purpose, we may reach out the customers who ordered the products in the previous year, to check whether we can get an estimation of future orders.\n",
    "## 3.2 Group 1\n",
    "### 3.2.1 Group 1 - Data Analysis"
   ]
  },
  {
   "cell_type": "code",
   "execution_count": 22,
   "metadata": {},
   "outputs": [
    {
     "data": {
      "text/plain": [
       "   Min. 1st Qu.  Median    Mean 3rd Qu.    Max. \n",
       "  2.096   2.942   3.712   3.680   4.231   6.231 "
      ]
     },
     "metadata": {},
     "output_type": "display_data"
    },
    {
     "data": {
      "image/png": "[encoded data removed]",
      "text/plain": [
       "Plot with title \"Box-plot of Group 1\""
      ]
     },
     "metadata": {},
     "output_type": "display_data"
    }
   ],
   "source": [
    "summary(group1_mean)\n",
    "\n",
    "par(mfrow = c(1, 2))\n",
    "hist(group1_mean, main = \"Histogram of Group 1\", xlab = \"Number of Transactions\")\n",
    "boxplot(group1_mean, main = \"Box-plot of Group 1\", names = c(\"Group1\"))"
   ]
  },
  {
   "cell_type": "markdown",
   "metadata": {},
   "source": [
    "According to the histogram, the distribution of weekly transactions is almost centered around 4. In the box plot, the distribution is a little bit right skewed, with one outlier. In addition, the 75th percentile is slightly larger than 4, which means most of the products in Group 1 have weekly transactions smaller than 4. Therefore, we can conclude that the products in Group 1 have low demands.\n",
    "\n",
    "In this group, since the distribution of weekly transactions is almost centered, we select the mean as our target value. The representative product of this group is the product whose number of transactions is minimally different from the mean."
   ]
  },
  {
   "cell_type": "code",
   "execution_count": 23,
   "metadata": {},
   "outputs": [
    {
     "name": "stdout",
     "output_type": "stream",
     "text": [
      "P318 \n",
      "  57 \n"
     ]
    },
    {
     "data": {
      "text/plain": [
       "   Min. 1st Qu.  Median    Mean 3rd Qu.    Max. \n",
       "  0.000   2.000   3.000   3.673   5.000   9.000 "
      ]
     },
     "metadata": {},
     "output_type": "display_data"
    },
    {
     "data": {
      "image/png": "[encoded data removed]",
      "text/plain": [
       "Plot with title \"Box-Plot\""
      ]
     },
     "metadata": {},
     "output_type": "display_data"
    }
   ],
   "source": [
    "idx1 <- which.min(abs(group1_mean-summary(group1_mean)['Mean']))\n",
    "print(idx1)\n",
    "summary(group1[,idx1])\n",
    "boxplot(group1[,idx1], main = \"Box-Plot\")"
   ]
  },
  {
   "cell_type": "markdown",
   "metadata": {},
   "source": [
    "The representative product of Group 1 is P318. \n",
    "\n",
    "The distribution of P318’s transaction data is a little bit right skewed. The average number of weekly transaction is 3.673, and the third quartile is 5. There is no outlier.\n",
    "### 3.2.2 Group 1 - Decomposition"
   ]
  },
  {
   "cell_type": "code",
   "execution_count": 27,
   "metadata": {},
   "outputs": [
    {
     "name": "stdout",
     "output_type": "stream",
     "text": [
      "package 'fpp' successfully unpacked and MD5 sums checked\n",
      "\n",
      "The downloaded binary packages are in\n",
      "\tC:\\Users\\Sarit\\AppData\\Local\\Temp\\RtmpOOgrFC\\downloaded_packages\n"
     ]
    },
    {
     "name": "stderr",
     "output_type": "stream",
     "text": [
      "Warning message:\n",
      "\"package 'fpp' was built under R version 3.6.1\"Loading required package: forecast\n",
      "Warning message:\n",
      "\"package 'forecast' was built under R version 3.6.1\"Registered S3 method overwritten by 'xts':\n",
      "  method     from\n",
      "  as.zoo.xts zoo \n",
      "Registered S3 method overwritten by 'quantmod':\n",
      "  method            from\n",
      "  as.zoo.data.frame zoo \n",
      "Registered S3 methods overwritten by 'forecast':\n",
      "  method             from    \n",
      "  fitted.fracdiff    fracdiff\n",
      "  residuals.fracdiff fracdiff\n",
      "Loading required package: fma\n",
      "Warning message:\n",
      "\"package 'fma' was built under R version 3.6.1\"Loading required package: expsmooth\n",
      "Warning message:\n",
      "\"package 'expsmooth' was built under R version 3.6.1\"Loading required package: lmtest\n",
      "Warning message:\n",
      "\"package 'lmtest' was built under R version 3.6.1\"Loading required package: zoo\n",
      "\n",
      "Attaching package: 'zoo'\n",
      "\n",
      "The following objects are masked from 'package:base':\n",
      "\n",
      "    as.Date, as.Date.numeric\n",
      "\n",
      "Loading required package: tseries\n",
      "Warning message:\n",
      "\"package 'tseries' was built under R version 3.6.1\""
     ]
    }
   ],
   "source": [
    "install.packages('fpp')\n",
    "library(fpp)"
   ]
  },
  {
   "cell_type": "code",
   "execution_count": 25,
   "metadata": {},
   "outputs": [],
   "source": [
    "library(ggplot2)"
   ]
  },
  {
   "cell_type": "code",
   "execution_count": 28,
   "metadata": {},
   "outputs": [
    {
     "data": {
      "image/png": "[encoded data removed]",
      "text/plain": [
       "plot without title"
      ]
     },
     "metadata": {},
     "output_type": "display_data"
    },
    {
     "data": {
      "image/png": "[encoded data removed]",
      "text/plain": [
       "plot without title"
      ]
     },
     "metadata": {},
     "output_type": "display_data"
    }
   ],
   "source": [
    "#Convert P3188 data to time series\n",
    "ts1 <- ts(group1[,idx1], frequency = 365.25/7)\n",
    "p1 = plot(ts1)\n",
    "ggAcf(ts1)"
   ]
  },
  {
   "cell_type": "markdown",
   "metadata": {},
   "source": [
    "According to the time plot, the majority of the number of transactions is between 2 and 6 per week. It is clear that there is no trend or seasonality in this time series. Moreover, the correlogram shows that this data is a white noise. In this way, there is no need to perform decomposition for this time series prior building a forecasting model.\n",
    "### 3.2.2 Group 1 - Forecast\n",
    "In this project, we will mainly apply two methods to this time series, ETS(Exponential Smoothing) and ARIMA(Autoregressive Integrated Moving Average ). If neither of these models work, we then will investigate other forecasting methods, such as average, drift, and naive, etc., based on the characteristic of the data.\n",
    "\n",
    "Since we only have transactions data of 52 weeks, it is difficult for us to make long-term forecasting. Therefore, the forecasting horizontal is 4 months, roughly one month.\n",
    "## ETS Method"
   ]
  },
  {
   "cell_type": "code",
   "execution_count": 80,
   "metadata": {},
   "outputs": [
    {
     "ename": "ERROR",
     "evalue": "Error in library(normwhn.test): there is no package called 'normwhn.test'\n",
     "output_type": "error",
     "traceback": [
      "Error in library(normwhn.test): there is no package called 'normwhn.test'\nTraceback:\n",
      "1. library(normwhn.test)"
     ]
    }
   ],
   "source": [
    "library(normwhn.test)"
   ]
  },
  {
   "cell_type": "code",
   "execution_count": 79,
   "metadata": {},
   "outputs": [
    {
     "ename": "ERROR",
     "evalue": "Error in whiteNoiseTest(ts0.acf, h0 = \"iid\", nlags = c(5, 10, 20), method = \"LiMcLeod\"): could not find function \"whiteNoiseTest\"\n",
     "output_type": "error",
     "traceback": [
      "Error in whiteNoiseTest(ts0.acf, h0 = \"iid\", nlags = c(5, 10, 20), method = \"LiMcLeod\"): could not find function \"whiteNoiseTest\"\nTraceback:\n"
     ]
    }
   ],
   "source": [
    "iid <- whiteNoiseTest(ts0.acf, h0 = \"iid\", nlags = c(5,10,20),  method = \"LiMcLeod\") \n",
    "iid\n"
   ]
  },
  {
   "cell_type": "code",
   "execution_count": 29,
   "metadata": {},
   "outputs": [
    {
     "name": "stdout",
     "output_type": "stream",
     "text": [
      "ETS(A,N,N) \n",
      "\n",
      "Call:\n",
      " ets(y = ts1) \n",
      "\n",
      "  Smoothing parameters:\n",
      "    alpha = 0.1373 \n",
      "\n",
      "  Initial states:\n",
      "    l = 4.9344 \n",
      "\n",
      "  sigma:  2.3852\n",
      "\n",
      "     AIC     AICc      BIC \n",
      "299.8299 300.3299 305.6836 \n",
      "\n",
      "Training set error measures:\n",
      "                     ME     RMSE      MAE  MPE MAPE MASE       ACF1\n",
      "Training set -0.1693657 2.338864 1.964891 -Inf  Inf  NaN 0.08297485\n",
      "\n",
      "\tLjung-Box test\n",
      "\n",
      "data:  Residuals from ETS(A,N,N)\n",
      "Q* = 7.4342, df = 8, p-value = 0.4906\n",
      "\n",
      "Model df: 2.   Total lags used: 10\n",
      "\n"
     ]
    },
    {
     "data": {
      "image/png": "[encoded data removed]",
      "text/plain": [
       "plot without title"
      ]
     },
     "metadata": {},
     "output_type": "display_data"
    }
   ],
   "source": [
    "fit_ets <- ets(ts1)\n",
    "summary(fit_ets)\n",
    "checkresiduals(fit_ets)"
   ]
  },
  {
   "cell_type": "code",
   "execution_count": 30,
   "metadata": {},
   "outputs": [
    {
     "data": {
      "image/png": "[encoded data removed]",
      "text/plain": [
       "Plot with title \"Forecasts from ETS(A,N,N)\""
      ]
     },
     "metadata": {},
     "output_type": "display_data"
    }
   ],
   "source": [
    "plot(forecast(fit_ets, h = 4)) "
   ]
  },
  {
   "cell_type": "markdown",
   "metadata": {},
   "source": [
    "The ETS(A,N,N) is the simple exponential smoothing with additive errors. This model is expected, because the original time series is a white noise, without trend and seasonality. The residual plots show that the residuals have constant variance and zero mean, and there is no significant autocorrelation with each other. This observation somehow indicates the model is a good fit. Moreover, the p-value of Ljung-Box test also indicates independence of residuals. However, when we look at the forecasting results, the prediction interval is unacceptably wide, which also include negative values. Therefore, the ETS model is not a good choice for this time series.\n",
    "## ARIMA Method"
   ]
  },
  {
   "cell_type": "code",
   "execution_count": 231,
   "metadata": {},
   "outputs": [],
   "source": [
    "library('zoo')\n",
    "library('xts')\n",
    "library('forecast');\n",
    "library('fma')\n",
    "library('expsmooth')\n",
    "library('lmtest')\n",
    "library('tseries')\n",
    "library('fpp')"
   ]
  },
  {
   "cell_type": "code",
   "execution_count": 236,
   "metadata": {},
   "outputs": [
    {
     "name": "stderr",
     "output_type": "stream",
     "text": [
      "\n",
      "Attaching package: 'nlme'\n",
      "\n",
      "The following object is masked from 'package:forecast':\n",
      "\n",
      "    getResponse\n",
      "\n",
      "The following object is masked from 'package:dplyr':\n",
      "\n",
      "    collapse\n",
      "\n"
     ]
    }
   ],
   "source": [
    "library(\"nlme\")"
   ]
  },
  {
   "cell_type": "code",
   "execution_count": 243,
   "metadata": {},
   "outputs": [
    {
     "name": "stderr",
     "output_type": "stream",
     "text": [
      "Warning message:\n",
      "\"package 'urca' is in use and will not be installed\""
     ]
    }
   ],
   "source": [
    "install.packages('urca')"
   ]
  },
  {
   "cell_type": "code",
   "execution_count": 32,
   "metadata": {},
   "outputs": [],
   "source": [
    "library('urca')"
   ]
  },
  {
   "cell_type": "code",
   "execution_count": 78,
   "metadata": {},
   "outputs": [
    {
     "data": {
      "text/plain": [
       "\n",
       "####################### \n",
       "# KPSS Unit Root Test # \n",
       "####################### \n",
       "\n",
       "Test is of type: mu with 3 lags. \n",
       "\n",
       "Value of test-statistic is: 0.3727 \n",
       "\n",
       "Critical value for a significance level of: \n",
       "                10pct  5pct 2.5pct  1pct\n",
       "critical values 0.347 0.463  0.574 0.739\n"
      ]
     },
     "metadata": {},
     "output_type": "display_data"
    },
    {
     "data": {
      "text/plain": [
       "\n",
       "\tAugmented Dickey-Fuller Test\n",
       "\n",
       "data:  ts1\n",
       "Dickey-Fuller = -2.6506, Lag order = 3, p-value = 0.3127\n",
       "alternative hypothesis: stationary\n"
      ]
     },
     "metadata": {},
     "output_type": "display_data"
    },
    {
     "data": {
      "text/plain": [
       "\n",
       "############################################################### \n",
       "# Augmented Dickey-Fuller Test Unit Root / Cointegration Test # \n",
       "############################################################### \n",
       "\n",
       "The value of the test statistic is: -3.0808 3.7884 5.6406 \n"
      ]
     },
     "metadata": {},
     "output_type": "display_data"
    }
   ],
   "source": [
    "summary(ur.kpss(ts1))\n",
    "adf.test(ts1)\n",
    "ur.df(ts1, type='trend', lags = 10, selectlags = \"BIC\")"
   ]
  },
  {
   "cell_type": "markdown",
   "metadata": {},
   "source": [
    "KPSS shows non-stationary data."
   ]
  },
  {
   "cell_type": "markdown",
   "metadata": {},
   "source": [
    "By using adf.test, it yields a big p-value which shows the data is not stationary."
   ]
  },
  {
   "cell_type": "markdown",
   "metadata": {},
   "source": [
    "In summary, adf.test, kpss.test and Ljung-Box test yields consistent results regarding the stationary test. The last approach of using ur.df() since it can specify trend, automatical find lag order and works well for structure data. While ADF test is weak with structure dataset."
   ]
  },
  {
   "cell_type": "code",
   "execution_count": 36,
   "metadata": {},
   "outputs": [
    {
     "data": {
      "image/png": "[encoded data removed]",
      "text/plain": [
       "plot without title"
      ]
     },
     "metadata": {},
     "output_type": "display_data"
    }
   ],
   "source": [
    "p1 = ggAcf(ts1)\n",
    "p2 = ggPacf(ts1)\n",
    "grid.arrange(p1, p2, ncol = 2)"
   ]
  },
  {
   "cell_type": "code",
   "execution_count": 37,
   "metadata": {},
   "outputs": [
    {
     "name": "stdout",
     "output_type": "stream",
     "text": [
      "Series: ts1 \n",
      "ARIMA(0,0,1) with non-zero mean \n",
      "\n",
      "Coefficients:\n",
      "         ma1    mean\n",
      "      0.3247  3.6898\n",
      "s.e.  0.1597  0.4168\n",
      "\n",
      "sigma^2 estimated as 5.403:  log likelihood=-116.68\n",
      "AIC=239.37   AICc=239.87   BIC=245.22\n",
      "\n",
      "Training set error measures:\n",
      "                      ME     RMSE      MAE  MPE MAPE MASE        ACF1\n",
      "Training set 0.005398077 2.279339 1.888182 -Inf  Inf  NaN -0.03290114\n",
      "\n",
      "\tLjung-Box test\n",
      "\n",
      "data:  Residuals from ARIMA(0,0,1) with non-zero mean\n",
      "Q* = 5.5431, df = 8, p-value = 0.6983\n",
      "\n",
      "Model df: 2.   Total lags used: 10\n",
      "\n"
     ]
    },
    {
     "data": {
      "image/png": "[encoded data removed]",
      "text/plain": [
       "plot without title"
      ]
     },
     "metadata": {},
     "output_type": "display_data"
    }
   ],
   "source": [
    "fit_arima = auto.arima(ts1, seasonal = FALSE)\n",
    "summary(fit_arima)\n",
    "checkresiduals(fit_arima)"
   ]
  },
  {
   "cell_type": "code",
   "execution_count": 38,
   "metadata": {},
   "outputs": [
    {
     "data": {
      "image/png": "[encoded data removed]",
      "text/plain": [
       "plot without title"
      ]
     },
     "metadata": {},
     "output_type": "display_data"
    }
   ],
   "source": [
    "autoplot(forecast(fit_arima, h = 4)) + xlab(\"Week\") + \n",
    "ylab(\"Number of Transactions\") + ggtitle(\"Group 1: Forecast using ARIMA Method\")"
   ]
  },
  {
   "cell_type": "markdown",
   "metadata": {},
   "source": [
    "As discussed, the transaction time series of P318 is a white noise, which is a stationary data. Therefore, we expect the ARIMA model will perform better than the ETS model.Though for white noise, there is no need to do differencing;a KPSS unit root test is still conducted to verify this decision. The value of test-statistic is smaller than all critical values, which confirms that the data is stationary. Moreover, both ACF and PACF plots have same observation of stationary.\n",
    "\n",
    "The next step is to develop an ARIMA model using auto.arima() function. The fitted model is ARIMA(0,0,0) with non-zero mean.For a white noise, this model is expected. Because there is no need of autoregression, differencing, and moving average for a white noise. The residual plots generally meet the requirements. Further, the RMSE and AIC are both smaller than those in the ETS model, saying that, the ARIMA model fits better. However, when checking the forecasting results, we notice that the forecasts are very similar with the ETS model, with an unacceptably wide prediction interval. Therefore, for this time series, ARIMA model is not a good choice, neither.\n",
    "## Other Methods"
   ]
  },
  {
   "cell_type": "code",
   "execution_count": 42,
   "metadata": {},
   "outputs": [
    {
     "data": {
      "image/png": "[encoded data removed]",
      "text/plain": [
       "plot without title"
      ]
     },
     "metadata": {},
     "output_type": "display_data"
    }
   ],
   "source": [
    "p1 <- autoplot(ts1) + autolayer(meanf(ts1, h = 4)) + xlab(\"Week\") + \n",
    "ylab(\"Number of Transactions\") + ggtitle(\"Group 1: Average Method\")\n",
    "\n",
    "p2 <- autoplot(ts1) + autolayer(naive(ts1, h = 4)) + xlab(\"Week\") + \n",
    "ylab(\"Number of Transactions\") + ggtitle(\"Group 1: Naive Method\")\n",
    "\n",
    "p3 <- autoplot(ts1) + autolayer(rwf(ts1, h = 4)) + xlab(\"Week\") + \n",
    "ylab(\"Number of Transactions\") + ggtitle(\"Group 1: Drift Method\")\n",
    "\n",
    "grid.arrange(p1, p2, p3, ncol = 3)"
   ]
  },
  {
   "cell_type": "markdown",
   "metadata": {},
   "source": [
    "Forecasts using other methods are plotted above. In general, none of these methods fit the data better than either ARIMA or ETS method. Specifically, the forecast using Average Method has very similar results. However, the prediction intervals of Naive method and drift method are even wider. Therefore, these methods are not good options.\n",
    "### 3.2.3 Summary\n",
    "Since the original data of P318 is a white noise, it is very difficult to make a good prediction for this time series. We notice that the forecasting results of both ARIMA and ETS models are equal to the mean of P318, which is 3.673. However, because of the wide prediction interval, it will put business into risk if we only use the forecasting results directly. Thus, instead of using the mean value, it will be more practical to use the third quartile value, 5 transactions per week. In this case, we may cover 75% of business needs.\n",
    "## 3.3 Group 2\n",
    "### 3.3.1 Group 2 - Data Analysis"
   ]
  },
  {
   "cell_type": "code",
   "execution_count": 47,
   "metadata": {},
   "outputs": [
    {
     "data": {
      "text/plain": [
       "   Min. 1st Qu.  Median    Mean 3rd Qu.    Max. \n",
       "  24.10   32.17   33.04   33.36   34.97   42.69 "
      ]
     },
     "metadata": {},
     "output_type": "display_data"
    },
    {
     "data": {
      "image/png": "[encoded data removed]",
      "text/plain": [
       "Plot with title \"Box-plot of Group 2\""
      ]
     },
     "metadata": {},
     "output_type": "display_data"
    }
   ],
   "source": [
    "summary(group2_mean)\n",
    "par(mfrow = c(1, 2))\n",
    "hist(group2_mean, main = \"Histogram of Group 2\", xlab = \"Number of Transactions\")\n",
    "boxplot(group2_mean, main = \"Box-plot of Group 2\", names = c(\"Group2\"))"
   ]
  },
  {
   "cell_type": "markdown",
   "metadata": {},
   "source": [
    "According to the histogram, the distribution of weekly transactions is right skewed. In the box plot, the distribution is right skewed, with some outliers.  In addition, the 25th percentile is around 32, which means most of the products in Group 3 have weekly transactions larger than 32. Therefore, we can conclude that the products in Group 3 have high demands.\n",
    "\n",
    "In this group, since the distribution of weekly transactions is centered, we select the mean as our target value. The representative product of this group is the product whose number of transactions is minimally different from the mean."
   ]
  },
  {
   "cell_type": "code",
   "execution_count": 48,
   "metadata": {},
   "outputs": [
    {
     "name": "stdout",
     "output_type": "stream",
     "text": [
      "P533 \n",
      " 113 \n"
     ]
    },
    {
     "data": {
      "text/plain": [
       "   Min. 1st Qu.  Median    Mean 3rd Qu.    Max. \n",
       "   12.0    20.0    23.0    24.1    28.0    41.0 "
      ]
     },
     "metadata": {},
     "output_type": "display_data"
    },
    {
     "data": {
      "image/png": "[encoded data removed]",
      "text/plain": [
       "Plot with title \"Box-Plot (Group 2)\""
      ]
     },
     "metadata": {},
     "output_type": "display_data"
    }
   ],
   "source": [
    "idx2 <- which.min(group2_mean-summary(group2_mean)['Mean'])\n",
    "print(idx2)\n",
    "summary(group2[,idx2])\n",
    "boxplot(group2[,idx2], main = \"Box-Plot (Group 2)\")"
   ]
  },
  {
   "cell_type": "markdown",
   "metadata": {},
   "source": [
    "The distribution of P533’s transaction data is a little bit right skewed, with one ourlier. The average number of weekly transaction is 24.1, and the third quartile is 28.\n",
    "\n",
    "### 3.3.2 Group 2 - Decomposition"
   ]
  },
  {
   "cell_type": "code",
   "execution_count": 49,
   "metadata": {},
   "outputs": [
    {
     "data": {
      "image/png": "[encoded data removed]",
      "text/plain": [
       "plot without title"
      ]
     },
     "metadata": {},
     "output_type": "display_data"
    }
   ],
   "source": [
    "#Convert P209 data to time series\n",
    "ts2 = ts(group2[,idx2], frequency = 365.25/7)\n",
    "p1 = autoplot(ts2) + xlab(\"Week\") + ylab(\"Number of Transaction\") + ggtitle(\"Time Plot (Group 2)\")\n",
    "p2 = ggAcf(ts2)\n",
    "grid.arrange(p1, p2, ncol = 2)"
   ]
  },
  {
   "cell_type": "markdown",
   "metadata": {},
   "source": [
    "According to the time plot, the majority of the number of transactions is between 15 and 35 per week. There is a decreasing trend over time, but no seasonality. The correlogram confirms with this observation. In addition, there is a dramatic increase in the last week, which may result in large variance in our forecasting results.\n",
    "### 3.4.2 Group 3 - Decomposition\n",
    "The original time series consists of a trend component and an irregular component, but no seasonal component. Therefore, it is appropriate to use the simple moving average method to smooth the trend."
   ]
  },
  {
   "cell_type": "code",
   "execution_count": 50,
   "metadata": {},
   "outputs": [
    {
     "name": "stderr",
     "output_type": "stream",
     "text": [
      "Warning message:\n",
      "\"Removed 4 rows containing missing values (geom_path).\"Warning message:\n",
      "\"Removed 6 rows containing missing values (geom_path).\""
     ]
    },
    {
     "data": {
      "image/png": "[encoded data removed]",
      "text/plain": [
       "plot without title"
      ]
     },
     "metadata": {},
     "output_type": "display_data"
    }
   ],
   "source": [
    "autoplot(ts2, series = \"Data\") + autolayer(ma(ts2, 5), series = \"5-MA\" ) + \n",
    "  autolayer(ma(ma(ts2, 5), 3), series = \"3x5-MA\") +\n",
    "  scale_colour_manual(values=c(\"Data\"=\"grey50\",\"5-MA\"=\"blue\", \"3x5-MA\" = \"red\"),\n",
    "                      breaks=c(\"Data\",\"5-MA\", \"3x5-MA\"))"
   ]
  },
  {
   "cell_type": "markdown",
   "metadata": {},
   "source": [
    "According to the results above, with an order of 5, the estimated trend is not smoothing as expected. Thus, moving average of the moving average is performed. The “3x5-MA” trend is a better fit.\n",
    "### 3.4.3 Group 3 - Forecast\n",
    "In this project, we will mainly apply two methods to this time series, ETS(Exponential Smoothing) and ARIMA(Autoregressive Integrated Moving Average ). If neither of these models work, we then will investigate other forecasting methods, such as average, drift, and naive, etc., based on the characteristic of the data.\n",
    "Since we only have transactions data of 52 weeks, it is difficult for us to make long-term forecasting. Therefore, the forecasting horizontal is 4 months, roughly one month.\n",
    "## ETS Method"
   ]
  },
  {
   "cell_type": "code",
   "execution_count": 53,
   "metadata": {},
   "outputs": [
    {
     "name": "stdout",
     "output_type": "stream",
     "text": [
      "ETS(A,Ad,N) \n",
      "\n",
      "Call:\n",
      " ets(y = ts2, model = \"AAZ\") \n",
      "\n",
      "  Smoothing parameters:\n",
      "    alpha = 2e-04 \n",
      "    beta  = 2e-04 \n",
      "    phi   = 0.9584 \n",
      "\n",
      "  Initial states:\n",
      "    l = 30.8384 \n",
      "    b = -0.4786 \n",
      "\n",
      "  sigma:  6.0183\n",
      "\n",
      "     AIC     AICc      BIC \n",
      "398.8668 400.7334 410.5742 \n",
      "\n",
      "Training set error measures:\n",
      "                      ME     RMSE      MAE      MPE     MAPE MASE      ACF1\n",
      "Training set -0.05536065 5.721614 4.353331 -5.84661 19.14019  NaN 0.1276799\n",
      "\n",
      "\tLjung-Box test\n",
      "\n",
      "data:  Residuals from ETS(A,Ad,N)\n",
      "Q* = 6.8655, df = 5, p-value = 0.2308\n",
      "\n",
      "Model df: 5.   Total lags used: 10\n",
      "\n"
     ]
    },
    {
     "data": {
      "image/png": "[encoded data removed]",
      "text/plain": [
       "plot without title"
      ]
     },
     "metadata": {},
     "output_type": "display_data"
    }
   ],
   "source": [
    "fit_ets <- ets(ts2, model = \"AAZ\")\n",
    "summary(fit_ets)\n",
    "checkresiduals(fit_ets)"
   ]
  },
  {
   "cell_type": "code",
   "execution_count": 55,
   "metadata": {},
   "outputs": [
    {
     "data": {
      "text/plain": [
       "         Point Forecast    Lo 80    Hi 80    Lo 95    Hi 95\n",
       "1.996578       20.92721 13.21450 28.63993 9.131630 32.72280\n",
       "2.015743       20.87984 13.16712 28.59255 9.084253 32.67542\n",
       "2.034908       20.83443 13.12171 28.54715 9.038843 32.63001\n",
       "2.054073       20.79091 13.07819 28.50363 8.995319 32.58650"
      ]
     },
     "metadata": {},
     "output_type": "display_data"
    },
    {
     "data": {
      "image/png": "[encoded data removed]",
      "text/plain": [
       "plot without title"
      ]
     },
     "metadata": {},
     "output_type": "display_data"
    }
   ],
   "source": [
    "autoplot(forecast(fit_ets, h = 4)) + xlab(\"Week\") + \n",
    "ylab(\"Number of Transactions\") + ggtitle(\"Group 3: Forecast using ETS Method\")\n",
    "forecast(fit_ets, h = 4)"
   ]
  },
  {
   "cell_type": "markdown",
   "metadata": {},
   "source": [
    "Since we already know that there is a trend component in the time series, and the variance seems constant over time. Therefore, the ETS() model should include trend-cycle component with additive errors. As a result, the forecasting model is ETS(A,Ad,N), where the trend component is damped to include the changes of trend. The residual plots show that the residuals have constant variance and zero mean, and there is no significant autocorrelation with each other.This observation somehow indicates the model is a good fit. Moreover, the p-value of Ljung-Box test also indicates independence of residuals. When we look at the forecasting results, the forecasts follow the decreasing trend with an acceptable prediction interval. Therefore, the ets model is a good fit.\n",
    "## ARIMA Method\n",
    "As discussed, the transaction time series of P533 has a trend-cycle component, which means it is non-stationary. Therefore, differencing is required in the Arima model."
   ]
  },
  {
   "cell_type": "code",
   "execution_count": 62,
   "metadata": {},
   "outputs": [],
   "source": [
    "library('tseries')"
   ]
  },
  {
   "cell_type": "code",
   "execution_count": 64,
   "metadata": {},
   "outputs": [
    {
     "data": {
      "text/plain": [
       "\n",
       "####################### \n",
       "# KPSS Unit Root Test # \n",
       "####################### \n",
       "\n",
       "Test is of type: mu with 3 lags. \n",
       "\n",
       "Value of test-statistic is: 0.57 \n",
       "\n",
       "Critical value for a significance level of: \n",
       "                10pct  5pct 2.5pct  1pct\n",
       "critical values 0.347 0.463  0.574 0.739\n"
      ]
     },
     "metadata": {},
     "output_type": "display_data"
    },
    {
     "data": {
      "text/plain": [
       "\n",
       "\tAugmented Dickey-Fuller Test\n",
       "\n",
       "data:  ts2\n",
       "Dickey-Fuller = -2.7299, Lag order = 3, p-value = 0.2808\n",
       "alternative hypothesis: stationary\n"
      ]
     },
     "metadata": {},
     "output_type": "display_data"
    },
    {
     "data": {
      "text/plain": [
       "\n",
       "############################################################### \n",
       "# Augmented Dickey-Fuller Test Unit Root / Cointegration Test # \n",
       "############################################################### \n",
       "\n",
       "The value of the test statistic is: -3.0808 3.7884 5.6406 \n"
      ]
     },
     "metadata": {},
     "output_type": "display_data"
    }
   ],
   "source": [
    "summary(ur.kpss(ts2))\n",
    "adf.test(ts2)\n",
    "ur.df(ts1, type='trend', lags = 10, selectlags = \"BIC\")"
   ]
  },
  {
   "cell_type": "code",
   "execution_count": 65,
   "metadata": {},
   "outputs": [
    {
     "data": {
      "text/html": [
       "1"
      ],
      "text/latex": [
       "1"
      ],
      "text/markdown": [
       "1"
      ],
      "text/plain": [
       "[1] 1"
      ]
     },
     "metadata": {},
     "output_type": "display_data"
    }
   ],
   "source": [
    "ndiffs(ts2)"
   ]
  },
  {
   "cell_type": "markdown",
   "metadata": {},
   "source": [
    "The unit root test result shows the necessary of differencing, and the differencing degree should be 1."
   ]
  },
  {
   "cell_type": "code",
   "execution_count": 66,
   "metadata": {},
   "outputs": [
    {
     "data": {
      "image/png": "[encoded data removed]",
      "text/plain": [
       "plot without title"
      ]
     },
     "metadata": {},
     "output_type": "display_data"
    }
   ],
   "source": [
    "p1 = ggAcf(ts2)\n",
    "p2 = ggPacf(ts2)\n",
    "grid.arrange(p1, p2, ncol = 2)"
   ]
  },
  {
   "cell_type": "markdown",
   "metadata": {},
   "source": [
    "In the ACF plot, we see that there are two spikes and no significant spikes thereafter. In the PACF, there are three significant spikes, and then no significant spikes thereafter. So in this case, the ACF and PACF lead us to think an ARIMA(2,1,0) model might be appropriate. As comparison, we also develop an ARIMA model using auto.arima() function."
   ]
  },
  {
   "cell_type": "code",
   "execution_count": 68,
   "metadata": {},
   "outputs": [
    {
     "name": "stdout",
     "output_type": "stream",
     "text": [
      "[1] 333.9637 335.9452 335.9452 331.1298\n",
      "Series: ts2 \n",
      "ARIMA(0,1,1) \n",
      "\n",
      "Coefficients:\n",
      "          ma1\n",
      "      -0.7598\n",
      "s.e.   0.1282\n",
      "\n",
      "sigma^2 estimated as 35.85:  log likelihood=-163.56\n",
      "AIC=331.13   AICc=331.38   BIC=334.99\n",
      "\n",
      "Training set error measures:\n",
      "                     ME     RMSE      MAE       MPE     MAPE MASE       ACF1\n",
      "Training set -0.1814896 5.871235 4.656843 -5.940685 20.48817  NaN 0.00640853\n",
      "\n",
      "\tLjung-Box test\n",
      "\n",
      "data:  Residuals from ARIMA(0,1,1)\n",
      "Q* = 7.1526, df = 9, p-value = 0.6212\n",
      "\n",
      "Model df: 1.   Total lags used: 10\n",
      "\n"
     ]
    },
    {
     "data": {
      "image/png": "[encoded data removed]",
      "text/plain": [
       "plot without title"
      ]
     },
     "metadata": {},
     "output_type": "display_data"
    }
   ],
   "source": [
    "fit_arima1 = arima(ts2, order = c(2, 1, 0))\n",
    "fit_arima2 = arima(ts2, order = c(2, 1, 1))\n",
    "fit_arima3 = arima(ts2, order = c(2, 1, 1))\n",
    "\n",
    "fit_arima_auto = auto.arima(ts2, seasonal = FALSE)\n",
    "print(c(fit_arima1$aic, fit_arima2$aic, fit_arima3$aic, fit_arima_auto$aic))\n",
    "summary(fit_arima_auto)\n",
    "checkresiduals(fit_arima_auto)"
   ]
  },
  {
   "cell_type": "code",
   "execution_count": 17,
   "metadata": {},
   "outputs": [
    {
     "ename": "ERROR",
     "evalue": "Error in forecast(fit_arima_auto, h = 4): could not find function \"forecast\"\n",
     "output_type": "error",
     "traceback": [
      "Error in forecast(fit_arima_auto, h = 4): could not find function \"forecast\"\nTraceback:\n",
      "1. autoplot(forecast(fit_arima_auto, h = 4))"
     ]
    }
   ],
   "source": [
    "autoplot(forecast(fit_arima_auto, h = 4)) + xlab(\"Week\") + \n",
    "ylab(\"Number of Transactions\") + ggtitle(\"Group 3: Forecast using ARIMA Method\")"
   ]
  },
  {
   "cell_type": "markdown",
   "metadata": {},
   "source": [
    "The best fit Arima model is Arima(0,1,1), in which the order of autocorrelation is set to 0. This may be attributed to the small spikes in the PACF plot. In the forecasting plot, we notice that the forecasts are around 25 and have a slightly decreasing trend. Based on the trend of historical data, this forecast may overestimate the transactions. This overestimation may result from the dramatic increase in the last two weeks. Therefore, the ETS model fits better.\n"
   ]
  },
  {
   "cell_type": "code",
   "execution_count": 70,
   "metadata": {},
   "outputs": [
    {
     "data": {
      "image/png": "[encoded data removed]",
      "text/plain": [
       "plot without title"
      ]
     },
     "metadata": {},
     "output_type": "display_data"
    }
   ],
   "source": [
    "p1 <- autoplot(ts2) + autolayer(holt(ts2, h = 4)) + xlab(\"Week\") + \n",
    "ylab(\"Number of Transactions\") + ggtitle(\"Group 3: Forecast using Holt's Method\")\n",
    "\n",
    "p2 <- autoplot(ts2) + autolayer(holt(ts2, h = 4, damped = TRUE, phi = 0.9)) +\n",
    "xlab(\"Week\") + ylab(\"Number of Transactions\") + ggtitle(\"Group 3: Forecast using Damped Holt's method\")\n",
    "\n",
    "grid.arrange(p1, p2, ncol = 2)"
   ]
  }
 ],
 "metadata": {
  "kernelspec": {
   "display_name": "R",
   "language": "R",
   "name": "ir"
  },
  "language_info": {
   "codemirror_mode": "r",
   "file_extension": ".r",
   "mimetype": "text/x-r-source",
   "name": "R",
   "pygments_lexer": "r",
   "version": "3.6.0"
  }
 },
 "nbformat": 4,
 "nbformat_minor": 2
}
